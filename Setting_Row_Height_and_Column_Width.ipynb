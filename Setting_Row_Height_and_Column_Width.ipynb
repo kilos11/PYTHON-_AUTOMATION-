{
  "nbformat": 4,
  "nbformat_minor": 0,
  "metadata": {
    "colab": {
      "provenance": [],
      "authorship_tag": "ABX9TyMtWmPMwQsVsNaqiaKUB/Ib",
      "include_colab_link": true
    },
    "kernelspec": {
      "name": "python3",
      "display_name": "Python 3"
    },
    "language_info": {
      "name": "python"
    }
  },
  "cells": [
    {
      "cell_type": "markdown",
      "metadata": {
        "id": "view-in-github",
        "colab_type": "text"
      },
      "source": [
        "<a href=\"https://colab.research.google.com/github/kilos11/PYTHON-_AUTOMATION-/blob/main/Setting_Row_Height_and_Column_Width.ipynb\" target=\"_parent\"><img src=\"https://colab.research.google.com/assets/colab-badge.svg\" alt=\"Open In Colab\"/></a>"
      ]
    },
    {
      "cell_type": "markdown",
      "source": [
        "#A sheet’s row_dimensions and column_dimensions are dictionary-like values; row_dimensions contains RowDimension objects and column_dimensions contains ColumnDimension objects. In row_dimensions, you can access one of the objects using the number of the row (in this case, 1 or 2). In column_dimensions, you can access one of the objects using the letter of the column (in this case, A or B)."
      ],
      "metadata": {
        "id": "V6W3CkLdRql5"
      }
    },
    {
      "cell_type": "code",
      "execution_count": 1,
      "metadata": {
        "id": "lT2RQCyOQ4Lh"
      },
      "outputs": [],
      "source": [
        "import openpyxl\n",
        "\n",
        "wb = openpyxl.Workbook()\n",
        "sheet = wb.active\n",
        "sheet['A1'] = 'Tall row'\n",
        "sheet['B2'] = 'Wide column'\n",
        "# Set the height and width:\n",
        "sheet.row_dimensions[1].height = 70\n",
        "sheet.column_dimensions['B'].width = 20\n",
        "wb.save('dimensions.xlsx')"
      ]
    }
  ]
}