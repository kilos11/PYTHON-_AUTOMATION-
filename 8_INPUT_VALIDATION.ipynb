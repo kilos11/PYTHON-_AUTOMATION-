{
  "cells": [
    {
      "cell_type": "markdown",
      "metadata": {
        "id": "view-in-github",
        "colab_type": "text"
      },
      "source": [
        "<a href=\"https://colab.research.google.com/github/kilos11/PYTHON-_AUTOMATION-/blob/main/8_INPUT_VALIDATION.ipynb\" target=\"_parent\"><img src=\"https://colab.research.google.com/assets/colab-badge.svg\" alt=\"Open In Colab\"/></a>"
      ]
    },
    {
      "cell_type": "markdown",
      "metadata": {
        "id": "JrShjWhWau1Y"
      },
      "source": [
        "#**The PyInputPlus Module**#\n",
        "PyInputPlus contains functions similar to input() for several kinds of data: numbers, dates, email addresses, and more. If the user ever enters invalid input, such as a badly formatted date or a number that is outside of an intended range, PyInputPlus will reprompt them for input just like our code in the previous section did. PyInputPlus also has other useful features like a limit for the number of times it reprompts users and a timeout if users are required to respond within a time limit."
      ]
    },
    {
      "cell_type": "code",
      "execution_count": null,
      "metadata": {
        "colab": {
          "base_uri": "https://localhost:8080/"
        },
        "id": "vhayHxOuYgra",
        "outputId": "d191389f-4aaf-4299-b6c4-dee94c46079a"
      },
      "outputs": [
        {
          "name": "stdout",
          "output_type": "stream",
          "text": [
            "Collecting pyinputplus\n",
            "  Downloading PyInputPlus-0.2.12.tar.gz (20 kB)\n",
            "  Installing build dependencies ... \u001b[?25l\u001b[?25hdone\n",
            "  Getting requirements to build wheel ... \u001b[?25l\u001b[?25hdone\n",
            "  Preparing metadata (pyproject.toml) ... \u001b[?25l\u001b[?25hdone\n",
            "Collecting pysimplevalidate>=0.2.7 (from pyinputplus)\n",
            "  Downloading PySimpleValidate-0.2.12.tar.gz (22 kB)\n",
            "  Installing build dependencies ... \u001b[?25l\u001b[?25hdone\n",
            "  Getting requirements to build wheel ... \u001b[?25l\u001b[?25hdone\n",
            "  Preparing metadata (pyproject.toml) ... \u001b[?25l\u001b[?25hdone\n",
            "Collecting stdiomask>=0.0.3 (from pyinputplus)\n",
            "  Downloading stdiomask-0.0.6.tar.gz (3.6 kB)\n",
            "  Installing build dependencies ... \u001b[?25l\u001b[?25hdone\n",
            "  Getting requirements to build wheel ... \u001b[?25l\u001b[?25hdone\n",
            "  Preparing metadata (pyproject.toml) ... \u001b[?25l\u001b[?25hdone\n",
            "Building wheels for collected packages: pyinputplus, pysimplevalidate, stdiomask\n",
            "  Building wheel for pyinputplus (pyproject.toml) ... \u001b[?25l\u001b[?25hdone\n",
            "  Created wheel for pyinputplus: filename=PyInputPlus-0.2.12-py3-none-any.whl size=11296 sha256=ccbb3c3aabfc9f2f7cb68b8ff730fcbfbf6c589dcae8ba55030a34235526cc76\n",
            "  Stored in directory: /root/.cache/pip/wheels/13/ec/a5/f780c8008b74e885aada43369ebf4d350edfd12bb5909ccb23\n",
            "  Building wheel for pysimplevalidate (pyproject.toml) ... \u001b[?25l\u001b[?25hdone\n",
            "  Created wheel for pysimplevalidate: filename=PySimpleValidate-0.2.12-py3-none-any.whl size=16176 sha256=6741474ef46cf38d62e889c7c94bf1a2d8b9880c345218a4d0dcf4f1d0246c04\n",
            "  Stored in directory: /root/.cache/pip/wheels/64/29/c9/2ee861e5b0775e289013b7c7157e0bdcea3a1b844f835b2eb8\n",
            "  Building wheel for stdiomask (pyproject.toml) ... \u001b[?25l\u001b[?25hdone\n",
            "  Created wheel for stdiomask: filename=stdiomask-0.0.6-py3-none-any.whl size=3306 sha256=126f4063c9e4379ba10101d377d13dde3317a9a5adde5c557aa6a1d7be89dbfa\n",
            "  Stored in directory: /root/.cache/pip/wheels/6c/00/4b/0715696f101d7376f67a83cf3d545feb8c241eeee75b80bb6f\n",
            "Successfully built pyinputplus pysimplevalidate stdiomask\n",
            "Installing collected packages: stdiomask, pysimplevalidate, pyinputplus\n",
            "Successfully installed pyinputplus-0.2.12 pysimplevalidate-0.2.12 stdiomask-0.0.6\n"
          ]
        }
      ],
      "source": [
        "!pip install pyinputplus"
      ]
    },
    {
      "cell_type": "code",
      "execution_count": null,
      "metadata": {
        "id": "8-YRmdTZbgzd"
      },
      "outputs": [],
      "source": [
        "import pyinputplus"
      ]
    },
    {
      "cell_type": "markdown",
      "metadata": {
        "id": "jCfqMJ-kKrj7"
      },
      "source": [
        "###*PyInputPlus has several functions for different kinds of input:*###\n",
        "\n",
        "inputStr() Is like the built-in input() function but has the general PyInputPlus features. You can also pass a custom validation function to it\n",
        "\n",
        "inputNum() Ensures the user enters a number and returns an int or float, depending on if the number has a decimal point in it\n",
        "\n",
        "inputChoice() Ensures the user enters one of the provided choices\n",
        "\n",
        "inputMenu() Is similar to inputChoice(), but provides a menu with numbered or lettered options\n",
        "\n",
        "inputDatetime() Ensures the user enters a date and time\n",
        "\n",
        "inputYesNo() Ensures the user enters a “yes” or “no” response\n",
        "\n",
        "inputBool() Is similar to inputYesNo(), but takes a “True” or “False” response and returns a Boolean value\n",
        "\n",
        "inputEmail() Ensures the user enters a valid email address\n",
        "\n",
        "inputFilepath() Ensures the user enters a valid file path and filename, and can optionally check that a file with that name exists\n",
        "\n",
        "inputPassword() Is like the built-in input(), but displays * characters as the user types so that passwords, or other sensitive information, aren’t displayed on the screen"
      ]
    },
    {
      "cell_type": "code",
      "execution_count": null,
      "metadata": {
        "colab": {
          "base_uri": "https://localhost:8080/"
        },
        "id": "xsSkHujrLjZE",
        "outputId": "7ed26f46-87cf-45aa-b593-bc380c22f5e1"
      },
      "outputs": [
        {
          "name": "stdout",
          "output_type": "stream",
          "text": [
            "5\n"
          ]
        }
      ],
      "source": [
        "import pyinputplus as pyip\n",
        "\n",
        "response = pyip.inputNum()"
      ]
    },
    {
      "cell_type": "markdown",
      "metadata": {
        "id": "YeW8OaufMivt"
      },
      "source": [
        "Just as you can pass a string to input() to provide a prompt, you can pass a string to a PyInputPlus function’s prompt keyword argument to display a prompt:"
      ]
    },
    {
      "cell_type": "code",
      "execution_count": null,
      "metadata": {
        "colab": {
          "base_uri": "https://localhost:8080/"
        },
        "id": "9L1WgWeSMn7D",
        "outputId": "3cd855c0-be9e-4b48-b060-b7e93ed9a092"
      },
      "outputs": [
        {
          "name": "stdout",
          "output_type": "stream",
          "text": [
            "Enter a number: Ten\n",
            "'Ten' is not an integer.\n",
            "Enter a number: 2\n"
          ]
        }
      ],
      "source": [
        "import pyinputplus as pyip\n",
        "\n",
        "response = pyip.inputInt(prompt='Enter a number: ')\n"
      ]
    },
    {
      "cell_type": "code",
      "execution_count": null,
      "metadata": {
        "colab": {
          "base_uri": "https://localhost:8080/"
        },
        "id": "mUXFIftrOt5Q",
        "outputId": "e7736044-2df3-45ce-b495-b9e0dd907f85"
      },
      "outputs": [
        {
          "name": "stdout",
          "output_type": "stream",
          "text": [
            "Please select one of the following:\n",
            "1. cat\n",
            "2. dog\n",
            "3. moose\n",
            "1\n"
          ]
        }
      ],
      "source": [
        "response = pyip.inputMenu(['cat', 'dog', 'moose'],numbered  = True)"
      ]
    },
    {
      "cell_type": "code",
      "execution_count": null,
      "metadata": {
        "colab": {
          "base_uri": "https://localhost:8080/"
        },
        "id": "u1Dk2jNzROjZ",
        "outputId": "10499030-b7b2-4fc0-8c49-a80b612271b8"
      },
      "outputs": [
        {
          "name": "stdout",
          "output_type": "stream",
          "text": [
            "Help on function parameters in module pyinputplus:\n",
            "\n",
            "parameters()\n",
            "    Common parameters for all ``input*()`` functions in PyInputPlus:\n",
            "    \n",
            "    * ``prompt`` (str): The text to display before each prompt for user input. Identical to the prompt argument for Python's ``raw_input()`` and ``input()`` functions.\n",
            "    * ``default`` (str, None): A default value to use should the user time out or exceed the number of tries to enter valid input.\n",
            "    * ``blank`` (bool): If ``True``, a blank string will be accepted. Defaults to ``False``.\n",
            "    * ``timeout`` (int, float): The number of seconds since the first prompt for input after which a ``TimeoutException`` is raised the next time the user enters input.\n",
            "    * ``limit`` (int): The number of tries the user has to enter valid input before the default value is returned.\n",
            "    * ``strip`` (bool, str, None): If ``None``, whitespace is stripped from value. If a str, the characters in it are stripped from value. If ``False``, nothing is stripped.\n",
            "    * ``allowlistRegexes`` (Sequence, None): A sequence of regex str that will explicitly pass validation.\n",
            "    * ``blocklistRegexes`` (Sequence, None): A sequence of regex str or ``(regex_str, error_msg_str)`` tuples that, if matched, will explicitly fail validation.\n",
            "    * ``applyFunc`` (Callable, None): An optional function that is passed the user's input, and returns the new value to use as the input.\n",
            "    * ``postValidateApplyFunc`` (Callable, None): An optional function that is passed the user's input after it has passed validation, and returns a transformed version for the ``input*()`` function to return.\n",
            "\n"
          ]
        }
      ],
      "source": [
        "import pyinputplus as pyip\n",
        "\n",
        "help(pyip.parameters)\n"
      ]
    },
    {
      "cell_type": "markdown",
      "metadata": {
        "id": "9OuAsogyHbDi"
      },
      "source": [
        "#**The min, max, greaterThan, and lessThan Keyword Arguments**#\n",
        "The inputNum(), inputInt(), and inputFloat() functions, which accept int and float numbers, also have min, max, greaterThan, and lessThan keyword arguments for specifying a range of valid values."
      ]
    },
    {
      "cell_type": "code",
      "execution_count": null,
      "metadata": {
        "colab": {
          "base_uri": "https://localhost:8080/"
        },
        "id": "TIq3VhhfHtC8",
        "outputId": "b0c70588-2e90-45eb-a33b-53634930cdb5"
      },
      "outputs": [
        {
          "name": "stdout",
          "output_type": "stream",
          "text": [
            "Enter num: 4\n",
            "4\n",
            "Enter num: 5\n",
            ">2\n",
            "Number must be at minimum 4.\n",
            ">7\n",
            "Number must be less than 6.\n",
            ">5\n"
          ]
        }
      ],
      "source": [
        "import pyinputplus as pyip\n",
        "\n",
        "response = pyip.inputNum('Enter num: ', min=4)\n",
        "print (response)\n",
        "\n",
        "response = pyip.inputNum('Enter num: ', greaterThan=4)\n",
        "\n",
        "response = pyip.inputNum('>', min=4, lessThan=6)"
      ]
    },
    {
      "cell_type": "markdown",
      "metadata": {
        "id": "Aa0vOjaQI0Ls"
      },
      "source": [
        "#**The blank Keyword Argument**#\n",
        "By default, blank input isn’t allowed unless the blank keyword argument is set to True:"
      ]
    },
    {
      "cell_type": "code",
      "execution_count": null,
      "metadata": {
        "colab": {
          "base_uri": "https://localhost:8080/"
        },
        "id": "6i4CjqJAJAEI",
        "outputId": "62f2d9bb-6a75-4abf-a8f7-51d879322374"
      },
      "outputs": [
        {
          "name": "stdout",
          "output_type": "stream",
          "text": [
            "Enter num: 4\n",
            "\n"
          ]
        }
      ],
      "source": [
        "import pyinputplus as pyip\n",
        "\n",
        "response = pyip.inputNum('Enter num: ')\n",
        "\n",
        "response = pyip.inputNum(blank=True)"
      ]
    },
    {
      "cell_type": "markdown",
      "metadata": {
        "id": "H0Rr45l7JqPo"
      },
      "source": [
        "#**The limit, timeout, and default Keyword Arguments**#\n",
        "By default, the PyInputPlus functions will continue to ask the user for valid input forever (or for as long as the program runs). If you’d like a function to stop asking the user for input after a certain number of tries or a certain amount of time, you can use the limit and timeout keyword arguments. Pass an integer for the limit keyword argument to determine how many attempts a PyInputPlus function will make to receive valid input before giving up, and pass an integer for the timeout keyword argument to determine how many seconds the user has to enter valid input before the PyInputPlus function gives up.\n",
        "\n",
        "If the user fails to enter valid input, these keyword arguments will cause the function to raise a RetryLimitException or TimeoutException, respectively."
      ]
    },
    {
      "cell_type": "code",
      "execution_count": null,
      "metadata": {
        "colab": {
          "base_uri": "https://localhost:8080/"
        },
        "id": "YYYhgtmkJ3Ao",
        "outputId": "dd681b5d-beb8-40c1-c49b-4e16cd68cc6d"
      },
      "outputs": [
        {
          "name": "stdout",
          "output_type": "stream",
          "text": [
            "2\n",
            "3\n"
          ]
        }
      ],
      "source": [
        "import pyinputplus as pyip\n",
        "\n",
        "response = pyip.inputNum(limit=2)\n",
        "\n",
        "response = pyip.inputNum(timeout=10)"
      ]
    },
    {
      "cell_type": "markdown",
      "metadata": {
        "id": "rbvR2BWKLIsM"
      },
      "source": [
        "##*When you use these keyword arguments and also pass a default keyword argument, the function returns the default value instead of raising an exception*##"
      ]
    },
    {
      "cell_type": "code",
      "execution_count": null,
      "metadata": {
        "colab": {
          "base_uri": "https://localhost:8080/"
        },
        "id": "JXdWo1TSLboz",
        "outputId": "a75dbb3d-7e22-45b5-a72c-553c373184fa"
      },
      "outputs": [
        {
          "name": "stdout",
          "output_type": "stream",
          "text": [
            "We\n",
            "'We' is not a number.\n",
            "Sw\n",
            "'Sw' is not a number.\n",
            "N/A\n"
          ]
        }
      ],
      "source": [
        "response = pyip.inputNum(limit=2, default='N/A')\n",
        "print(response )"
      ]
    },
    {
      "cell_type": "markdown",
      "metadata": {
        "id": "65fDCGbUMCqf"
      },
      "source": [
        "#**The allowRegexes and blockRegexes Keyword Arguments**#\n",
        "You can also use regular expressions to specify whether an input is allowed or not. The allowRegexes and blockRegexes keyword arguments take a list of regular expression strings to determine what the PyInputPlus function will accept or reject as valid input. For example, enter the following code into the interactive shell so that inputNum() will accept Roman numerals in addition to the usual numbers:"
      ]
    },
    {
      "cell_type": "code",
      "execution_count": null,
      "metadata": {
        "colab": {
          "base_uri": "https://localhost:8080/"
        },
        "id": "SSJPaiNRMOxb",
        "outputId": "38db408b-6f63-41b8-ceb1-139055f64940"
      },
      "outputs": [
        {
          "name": "stdout",
          "output_type": "stream",
          "text": [
            "2\n",
            "2\n",
            "This response is invalid.\n",
            "4\n",
            "This response is invalid.\n",
            "1\n",
            "9\n"
          ]
        }
      ],
      "source": [
        "import pyinputplus as pyip\n",
        "\n",
        "response = pyip.inputNum(allowRegexes=[r'(I|V|X|L|C|D|M)+', r'zero'])\n",
        "\n",
        "#You can also specify a list of regular expression strings that a PyInputPlus function won’t\n",
        "#accept by using the blockRegexes keyword argument.\n",
        "import pyinputplus as pyip\n",
        "\n",
        "response = pyip.inputNum(blockRegexes=[r'[02468]$'])\n",
        "\n",
        "#If you specify both an allowRegexes and blockRegexes argument,\n",
        "#the allow list overrides the block list.\n",
        "response = pyip.inputStr(allowRegexes=[r'caterpillar', 'category'],\n",
        "blockRegexes=[r'cat'])\n"
      ]
    },
    {
      "cell_type": "markdown",
      "metadata": {
        "id": "4plAu1bCSyiK"
      },
      "source": [
        "#**Passing a Custom Validation Function to inputCustom()**#\n",
        "You can write a function to perform your own custom validation logic by passing the function to inputCustom(). For example, say you want the user to enter a series of digits that adds up to 10. There is no pyinputplus.inputAddsUpToTen() function, but you can create your own function that:\n",
        "\n",
        "Accepts a single string argument of what the user entered\n",
        "Raises an exception if the string fails validation\n",
        "\n",
        "Returns None (or has no return statement) if inputCustom() should return the string unchanged\n",
        "\n",
        "Returns a non-None value if inputCustom() should return a different string from the one the user entered\n",
        "\n",
        "Is passed as the first argument to inputCustom()\n",
        "For example, we can create our own addsUpToTen() function, and then pass it to inputCustom(). Note that the function call looks like inputCustom(addsUpToTen) and not inputCustom(addsUpToTen()) because we are passing the addsUpToTen() function itself to inputCustom(), not calling addsUpToTen() and passing its return value.\n",
        "\n",
        "The inputCustom() function also supports the general PyInputPlus features, such as the blank, limit, timeout, default, allowRegexes, and blockRegexes keyword arguments. Writing your own custom validation function is useful when it’s otherwise difficult or impossible to write a regular expression for valid input, as in the “adds up to 10” example."
      ]
    },
    {
      "cell_type": "code",
      "execution_count": null,
      "metadata": {
        "colab": {
          "base_uri": "https://localhost:8080/"
        },
        "id": "-v5p7vKEVLYO",
        "outputId": "0fa5a09c-de81-4eb4-cd54-c2520cc52c95"
      },
      "outputs": [
        {
          "name": "stdout",
          "output_type": "stream",
          "text": [
            "12\n",
            "The digits must add up to 10, not 3.\n",
            "12345\n",
            "The digits must add up to 10, not 15.\n",
            "55\n"
          ]
        }
      ],
      "source": [
        "# This function takes a string of digits as input\n",
        "# and checks if the sum of the digits is equal to 10\n",
        "def addsUpToTen(numbers):\n",
        "    # Convert the input string to a list of individual digits\n",
        "    numbersList = list(numbers)\n",
        "\n",
        "    # Iterate over the list and convert each digit from string to int\n",
        "    for i, digit in enumerate(numbersList):\n",
        "        numbersList[i] = int(digit)\n",
        "\n",
        "    # Check if the sum of the digits is not equal to 10\n",
        "    if sum(numbersList) != 10:\n",
        "        # If not, raise an exception with an error message\n",
        "        raise Exception('The digits must add up to 10, not %s.' %\n",
        "                                (sum(numbersList)))\n",
        "\n",
        "    # If the sum is 10, convert the input string to an integer and return it\n",
        "    return int(numbers) # Return an int form of numbers.\n",
        "\n",
        "# Call the inputCustom function from the pyinputplus library\n",
        "# and pass the addsUpToTen function as an argument\n",
        "# This will prompt the user to enter a string of digits\n",
        "# and validate it using the addsUpToTen function\n",
        "response = pyip.inputCustom(addsUpToTen)"
      ]
    },
    {
      "cell_type": "markdown",
      "metadata": {
        "id": "7w_23355WPik"
      },
      "source": [
        "#**Project: How to Keep an Idiot Busy for Hours**#\n",
        "Let’s use PyInputPlus to create a simple program that does the following:\n",
        "\n",
        "Ask the user if they’d like to know how to keep an idiot busy for hours.\n",
        "If the user answers no, quit.\n",
        "If the user answers yes, go to Step 1.\n",
        "Of course, we don’t know if the user will enter something besides “yes” or “no,” so we need to perform input validation. It would also be convenient for the user to be able to enter “y” or “n” instead of the full words. PyInputPlus’s inputYesNo() function will handle this for us and, no matter what case the user enters, return a lowercase 'yes' or 'no' string value."
      ]
    },
    {
      "cell_type": "code",
      "execution_count": null,
      "metadata": {
        "colab": {
          "background_save": true,
          "base_uri": "https://localhost:8080/"
        },
        "id": "LmipZmN-Wj27",
        "outputId": "3f829331-b3cc-4b50-ded6-24067dc7da63"
      },
      "outputs": [
        {
          "name": "stdout",
          "output_type": "stream",
          "text": [
            "Want to know how to keep an idiot busy for hours?\n",
            "Want to know how to keep an idiot busy for hours?\n",
            "'Yesssss' is not a valid yes/no response.\n",
            "Want to know how to keep an idiot busy for hours?\n",
            "'Yebo' is not a valid yes/no response.\n",
            "Want to know how to keep an idiot busy for hours?\n",
            "Thank you. Have a nice day.\n"
          ]
        }
      ],
      "source": [
        "import pyinputplus as pyip\n",
        "\n",
        "#while True: creates an infinite loop that continues to run\n",
        "#until it encounters a break statement. In this loop, we call pyip.\n",
        "#inputYesNo() to ensure that this function call won’t return until\n",
        "#the user enters a valid answer.\n",
        "while True:\n",
        "        prompt = 'Want to know how to keep an idiot busy for hours?\\n'\n",
        "        response = pyip.inputYesNo(prompt)\n",
        "        if response == 'no':\n",
        "            break\n",
        "print('Thank you. Have a nice day.')"
      ]
    },
    {
      "cell_type": "markdown",
      "source": [
        "#**Project: Multiplication Quiz**#\n",
        "PyInputPlus’s features can be useful for creating a timed multiplication quiz. By setting the allowRegexes, blockRegexes, timeout, and limit keyword argument to pyip.inputStr(), you can leave most of the implementation to PyInputPlus. The less code you need to write, the faster you can write your programs. Let’s create a program that poses 10 multiplication problems to the user, where the valid input is the problem’s correct answer."
      ],
      "metadata": {
        "id": "zHXEHi-haEtm"
      }
    },
    {
      "cell_type": "code",
      "source": [
        "import pyinputplus as pyip\n",
        "import random, time\n",
        "\n",
        "numberOfQuestions = 10\n",
        "correctAnswers = 0\n",
        "\n",
        "for questionNumber in range(numberOfQuestions):\n",
        "     # Pick two random numbers:\n",
        "     num1 = random.randint(0, 9)\n",
        "     num2 = random.randint(0, 9)\n",
        "     prompt = '#%s: %s x %s = ' % (questionNumber, num1, num2)\n",
        "     try:\n",
        "    # Right answers are handled by allowRegexes.\n",
        "    # Wrong answers are handled by blockRegexes, with a custom message.\n",
        "    pyip.inputStr(prompt, allowRegexes=['^%s$' % (num1 * num2)],\n",
        "                                  blockRegexes=[('.*', 'Incorrect!')],\n",
        "                                                                timeout=8, limit=3)\n",
        "except pyip.TimeoutException:\n",
        "                print('Out of time!')\n",
        "                    except pyip.RetryLimitException:\n",
        "                            print('Out of tries!')\n",
        "else:\n",
        "    # This block runs if no exceptions were raised in the try block.\n",
        "    print('Correct!')\n",
        "    correctAnswers += 1\n",
        "\n",
        "time.sleep(1) # Brief pause to let user see the result.\n",
        "print('Score: %s / %s' % (correctAnswers, numberOfQuestions))"
      ],
      "metadata": {
        "id": "VFMp4GnKaMOE"
      },
      "execution_count": null,
      "outputs": []
    },
    {
      "cell_type": "markdown",
      "source": [
        "#**Sandwich Maker**##"
      ],
      "metadata": {
        "id": "Q9e9b2aVj-4Y"
      }
    },
    {
      "source": [
        "import pyinputplus as pyip\n",
        "\n",
        "# Define prices for different options\n",
        "BREAD_PRICES = {'wheat': 1.0, 'white': 0.8, 'sourdough': 1.2}\n",
        "PROTEIN_PRICES = {'chicken': 2.0, 'turkey': 1.8, 'ham': 1.5, 'tofu': 1.2}\n",
        "CHEESE_PRICES = {'cheddar': 0.5, 'swiss': 0.6, 'mozzarella': 0.4}\n",
        "MAYO_PRICE = 0.2\n",
        "MUSTARD_PRICE = 0.1\n",
        "LETTUCE_PRICE = 0.3\n",
        "TOMATO_PRICE = 0.4\n",
        "\n",
        "# Ask for bread type\n",
        "bread_type = pyip.inputMenu(['wheat', 'white', 'sourdough'], prompt='Choose a bread type:\\n')\n",
        "\n",
        "# Ask for protein type\n",
        "protein_type = pyip.inputMenu(['chicken', 'turkey', 'ham', 'tofu'], prompt='Choose a protein type:\\n')\n",
        "\n",
        "# Ask if they want cheese\n",
        "want_cheese = pyip.inputYesNo(prompt='Do you want cheese? (yes/no)\\n')\n",
        "cheese_type = None\n",
        "if want_cheese == 'yes':\n",
        "    cheese_type = pyip.inputMenu(['cheddar', 'swiss', 'mozzarella'], prompt='Choose a cheese type:\\n')\n",
        "\n",
        "    # Ask for additional toppings\n",
        "    want_mayo = pyip.inputYesNo(prompt='Do you want mayo? (yes/no)\\n')\n",
        "    want_mustard = pyip.inputYesNo(prompt='Do you want mustard? (yes/no)\\n')\n",
        "    want_lettuce = pyip.inputYesNo(prompt='Do you want lettuce? (yes/no)\\n')\n",
        "    want_tomato = pyip.inputYesNo(prompt='Do you want tomato? (yes/no)\\n')\n",
        "\n",
        "    # Ask for the number of sandwiches\n",
        "    num_sandwiches = pyip.inputInt(prompt='How many sandwiches do you want? (enter a number)\\n', min=1)\n",
        "\n",
        "    # Calculate the total cost\n",
        "    total_cost = (BREAD_PRICES[bread_type] + PROTEIN_PRICES[protein_type]) * num_sandwiches\n",
        "    if want_cheese == 'yes':\n",
        "        total_cost += CHEESE_PRICES[cheese_type] * num_sandwiches\n",
        "        if want_mayo == 'yes':\n",
        "            total_cost += MAYO_PRICE * num_sandwiches\n",
        "            if want_mustard == 'yes':\n",
        "                total_cost += MUSTARD_PRICE * num_sandwiches\n",
        "                if want_lettuce == 'yes':\n",
        "                    total_cost += LETTUCE_PRICE * num_sandwiches\n",
        "                    if want_tomato == 'yes':\n",
        "                        total_cost += TOMATO_PRICE * num_sandwiches\n",
        "\n",
        "                        # Display the total cost\n",
        "                        print(f'Total cost: ${total_cost:.2f}')"
      ],
      "cell_type": "code",
      "metadata": {
        "colab": {
          "base_uri": "https://localhost:8080/"
        },
        "id": "gKU7Qcwmc238",
        "outputId": "9f7c6a7f-2d42-4f50-d5f0-06771ed667d3"
      },
      "execution_count": null,
      "outputs": [
        {
          "output_type": "stream",
          "name": "stdout",
          "text": [
            "Choose a bread type:\n",
            "* wheat\n",
            "* white\n",
            "* sourdough\n",
            "Wheat\n",
            "Choose a protein type:\n",
            "* chicken\n",
            "* turkey\n",
            "* ham\n",
            "* tofu\n",
            "Tofu\n",
            "Do you want cheese? (yes/no)\n",
            "Yes\n",
            "Choose a cheese type:\n",
            "* cheddar\n",
            "* swiss\n",
            "* mozzarella\n",
            "Swiss\n",
            "Do you want mayo? (yes/no)\n",
            "Yes\n",
            "Do you want mustard? (yes/no)\n",
            "Yes\n",
            "Do you want lettuce? (yes/no)\n",
            "Yes\n",
            "Do you want tomato? (yes/no)\n",
            "Yes\n",
            "How many sandwiches do you want? (enter a number)\n",
            "2\n",
            "Total cost: $7.60\n"
          ]
        }
      ]
    },
    {
      "cell_type": "code",
      "source": [
        "import random\n",
        "import time\n",
        "\n",
        "def generate_question():\n",
        "    # Generate random factors\n",
        "        factor1 = random.randint(0, 9)\n",
        "            factor2 = random.randint(0, 9)\n",
        "                return factor1, factor2\n",
        "\n",
        "                def display_question(factor1, factor2):\n",
        "                    print(f\"{factor1} x {factor2} = ?\")\n",
        "\n",
        "                    def get_user_answer(time_limit):\n",
        "                        start_time = time.time()\n",
        "                            for attempt in range(3):\n",
        "                                    try:\n",
        "                                                user_answer = int(input(\"Enter your answer: \"))\n",
        "                                                            elapsed_time = time.time() - start_time\n",
        "                                                                        if elapsed_time <= time_limit:\n",
        "                                                                                        return user_answer\n",
        "                                                                                                    else:\n",
        "                                                                                                                    print(\"Time's up!\")\n",
        "                                                                                                                                    return None\n",
        "                                                                                                                                            except ValueError:\n",
        "                                                                                                                                                        print(\"Invalid input. Please enter a number.\")\n",
        "                                                                                                                                                            return None\n",
        "\n",
        "                                                                                                                                                            def check_answer(factor1, factor2, user_answer):\n",
        "                                                                                                                                                                correct_answer = factor1 * factor2\n",
        "                                                                                                                                                                    if user_answer == correct_answer:\n",
        "                                                                                                                                                                            print(\"Correct!\")\n",
        "                                                                                                                                                                                    time.sleep(1)  # Display \"Correct!\" for 1 second\n",
        "                                                                                                                                                                                            return True\n",
        "                                                                                                                                                                                                else:\n",
        "                                                                                                                                                                                                        return False\n",
        "\n",
        "                                                                                                                                                                                                        # Main program loop\n",
        "                                                                                                                                                                                                        for question_number in range(1, 11):\n",
        "                                                                                                                                                                                                            factor1, factor2 = generate_question()\n",
        "                                                                                                                                                                                                                display_question(factor1, factor2)\n",
        "                                                                                                                                                                                                                    user_answer = get_user_answer(8)  # 8-second time limit\n",
        "                                                                                                                                                                                                                        if user_answer is not None:\n",
        "                                                                                                                                                                                                                                if check_answer(factor1, factor2, user_answer):\n",
        "                                                                                                                                                                                                                                            continue  # Move on to the next question\n",
        "                                                                                                                                                                                                                                                print(f\"The correct answer is: {factor1 * factor2}\")"
      ],
      "metadata": {
        "colab": {
          "base_uri": "https://localhost:8080/",
          "height": 106
        },
        "id": "MVLftoY1nCKp",
        "outputId": "145760f2-0ad9-4b74-8fde-97f1d3c3d782"
      },
      "execution_count": 33,
      "outputs": [
        {
          "output_type": "error",
          "ename": "IndentationError",
          "evalue": "unexpected indent (<ipython-input-33-cc5d900273f8>, line 7)",
          "traceback": [
            "\u001b[0;36m  File \u001b[0;32m\"<ipython-input-33-cc5d900273f8>\"\u001b[0;36m, line \u001b[0;32m7\u001b[0m\n\u001b[0;31m    factor2 = random.randint(0, 9)\u001b[0m\n\u001b[0m    ^\u001b[0m\n\u001b[0;31mIndentationError\u001b[0m\u001b[0;31m:\u001b[0m unexpected indent\n"
          ]
        }
      ]
    },
    {
      "source": [
        "import random\n",
        "import time\n",
        "\n",
        "def generate_question():\n",
        "    # Generate random factors\n",
        "    factor1 = random.randint(0, 9)\n",
        "    factor2 = random.randint(0, 9)\n",
        "    return factor1, factor2\n",
        "\n",
        "def display_question(factor1, factor2):\n",
        "    print(f\"{factor1} x {factor2} = ?\")\n",
        "\n",
        "def get_user_answer(time_limit):\n",
        "    start_time = time.time()\n",
        "    for attempt in range(3):\n",
        "        try:\n",
        "            user_answer = int(input(\"Enter your answer: \"))\n",
        "            elapsed_time = time.time() - start_time\n",
        "            if elapsed_time <= time_limit:\n",
        "                return user_answer\n",
        "            else:\n",
        "                print(\"Time's up!\")\n",
        "                return None\n",
        "        except ValueError:\n",
        "            print(\"Invalid input. Please enter a number.\")\n",
        "    return None\n",
        "\n",
        "def check_answer(factor1, factor2, user_answer):\n",
        "    correct_answer = factor1 * factor2\n",
        "    if user_answer == correct_answer:\n",
        "        print(\"Correct!\")\n",
        "        time.sleep(1)  # Display \"Correct!\" for 1 second\n",
        "        return True\n",
        "    else:\n",
        "        return False\n",
        "\n",
        "# Main program loop\n",
        "for question_number in range(1, 11):\n",
        "    factor1, factor2 = generate_question()\n",
        "    display_question(factor1, factor2)\n",
        "    user_answer = get_user_answer(8)  # 8-second time limit\n",
        "    if user_answer is not None:\n",
        "        if check_answer(factor1, factor2, user_answer):\n",
        "            continue  # Move on to the next question\n",
        "        else:\n",
        "            print(f\"The correct answer is: {factor1 * factor2}\")"
      ],
      "cell_type": "code",
      "metadata": {
        "colab": {
          "base_uri": "https://localhost:8080/"
        },
        "id": "fwWSxTQXnM51",
        "outputId": "7960951b-fef4-46da-e373-32462e21f954"
      },
      "execution_count": 34,
      "outputs": [
        {
          "output_type": "stream",
          "name": "stdout",
          "text": [
            "1 x 7 = ?\n",
            "Enter your answer: 7\n",
            "Time's up!\n",
            "5 x 9 = ?\n",
            "Enter your answer: 45\n",
            "Correct!\n",
            "7 x 2 = ?\n",
            "Enter your answer: 14\n",
            "Correct!\n",
            "9 x 3 = ?\n",
            "Enter your answer: 27\n",
            "Correct!\n",
            "0 x 2 = ?\n",
            "Enter your answer: 0\n",
            "Correct!\n",
            "9 x 1 = ?\n",
            "Enter your answer: 9\n",
            "Correct!\n",
            "5 x 9 = ?\n",
            "Enter your answer: 45\n",
            "Correct!\n",
            "6 x 9 = ?\n",
            "Enter your answer: 54\n",
            "Time's up!\n",
            "5 x 2 = ?\n",
            "Enter your answer: 10\n",
            "Correct!\n",
            "9 x 3 = ?\n",
            "Enter your answer: 27\n",
            "Correct!\n"
          ]
        }
      ]
    }
  ],
  "metadata": {
    "colab": {
      "provenance": [],
      "authorship_tag": "ABX9TyOnOhymqACuVk2SZX++cZ6a",
      "include_colab_link": true
    },
    "kernelspec": {
      "display_name": "Python 3",
      "name": "python3"
    },
    "language_info": {
      "name": "python"
    }
  },
  "nbformat": 4,
  "nbformat_minor": 0
}