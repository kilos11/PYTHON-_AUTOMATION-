{
  "cells": [
    {
      "cell_type": "markdown",
      "metadata": {
        "id": "view-in-github",
        "colab_type": "text"
      },
      "source": [
        "<a href=\"https://colab.research.google.com/github/kilos11/PYTHON-_AUTOMATION-/blob/main/Pattern_Matchingwith_RegularExpression.ipynb\" target=\"_parent\"><img src=\"https://colab.research.google.com/assets/colab-badge.svg\" alt=\"Open In Colab\"/></a>"
      ]
    },
    {
      "cell_type": "markdown",
      "metadata": {
        "id": "m_AzqRLS5Ez2"
      },
      "source": [
        "#**Finding Patterns of Text Without Regular Expressions**\n",
        "\n",
        "Say you want to find an American phone number in a string. You know the pattern if you’re American: three numbers, a hyphen, three numbers, a hyphen, and four numbers. Here’s an example: 415-555-4242.\n",
        "\n",
        "Let’s use a function named isPhoneNumber() to check whether a string matches this pattern, returning either True or False."
      ]
    },
    {
      "cell_type": "code",
      "execution_count": null,
      "metadata": {
        "id": "0aUU9vYo5k2y"
      },
      "outputs": [],
      "source": [
        "def isPhoneNumber(text):\n",
        "    if not text[i].isdecimal():\n",
        "        return False\n",
        "     for i in range(0, 3):\n",
        "         if not text[i].isdecimal():\n",
        "            return False\n",
        "    if text[3] != '-':\n",
        "         return False\n",
        "     for i in range(4, 7):\n",
        "        if not text[i].isdecimal():\n",
        "            return False\n",
        "    if text[7] != '-':\n",
        "        return False\n",
        "     for i in range(8, 12):\n",
        "        if not text[i].isdecimal():\n",
        "            return False\n",
        "    return True\n",
        "\n",
        "print('Is 415-555-4242 a phone number?')\n",
        "print(isPhoneNumber('415-555-4242'))\n",
        "print('Is Moshi moshi a phone number?')\n",
        "print(isPhoneNumber('Moshi moshi'))\n"
      ]
    },
    {
      "cell_type": "markdown",
      "metadata": {
        "id": "gUykPQNi95zj"
      },
      "source": [
        "#**Finding Patterns of Text with Regular Expressions**\n",
        "\n",
        "The previous phone number–finding program works, but it uses a lot of code to do something limited: the isPhoneNumber() function is 17 lines but can find only one pattern of phone numbers. What about a phone number formatted like 415.555.4242 or (415) 555-4242? What if the phone number had an extension, like 415-555-4242 x99? The isPhoneNumber() function would fail to validate them. You could add yet more code for these additional patterns, but there is an easier way.\n",
        "\n",
        "Regular expressions, called regexes for short, are descriptions for a pattern of text. For example, a \\d in a regex stands for a digit character—that is, any single numeral from 0 to 9. The regex \\d\\d\\d-\\d\\d\\d-\\d\\d\\d\\d is used by Python to match the same text pattern the previous isPhoneNumber() function did: a string of three numbers, a hyphen, three more numbers, another hyphen, and four numbers. Any other string would not match the \\d\\d\\d-\\d\\d\\d-\\d\\d\\d\\d regex.\n",
        "\n",
        "But regular expressions can be much more sophisticated. For example, adding a 3 in braces ({3}) after a pattern is like saying, “Match this pattern three times.” So the slightly shorter regex \\d{3}-\\d{3}-\\d{4} also matches the correct phone number format."
      ]
    },
    {
      "cell_type": "markdown",
      "metadata": {
        "id": "NcjRjnkL_X5a"
      },
      "source": [
        "##**Creating Regex Objects**\n",
        "\n",
        "All the regex functions in Python are in the re module.\n",
        "Passing a string value representing your regular expression to re.compile() returns a Regex pattern object (or simply, a Regex object).\n",
        "\n",
        "To create a Regex object that matches the phone number pattern, enter the following into the interactive shell. (Remember that \\d means “a digit character” and \\d\\d\\d-\\d\\d\\d-\\d\\d\\d\\d is the regular expression for a phone number pattern.)\n",
        "Now the phoneNumRegex variable contains a Regex object."
      ]
    },
    {
      "cell_type": "code",
      "execution_count": null,
      "metadata": {
        "id": "KDI9wool-FTs"
      },
      "outputs": [],
      "source": [
        "import re\n",
        "\n",
        "phoneNumRegex = re.compile(r'\\d\\d\\d-\\d\\d\\d-\\d\\d\\d\\d')"
      ]
    },
    {
      "cell_type": "markdown",
      "metadata": {
        "id": "EKi8O31yAllB"
      },
      "source": [
        "##**Matching Regex Objects**\n",
        "\n",
        "A Regex object’s search() method searches the string it is passed for any matches to the regex. The search() method will return None if the regex pattern is not found in the string. If the pattern is found, the search() method returns a Match object, which have a group() method that will return the actual matched text from the searched string.\n",
        "Here, we pass our desired pattern to re.compile() and store the resulting Regex object in phoneNumRegex. Then we call search() on phoneNumRegex and pass search() the string we want to match for during the search. The result of the search gets stored in the variable mo. In this example, we know that our pattern will be found in the string, so we know that a Match object will be returned. Knowing that mo contains a Match object and not the null value None, we can call group() on mo to return the match. Writing mo.group() inside our print() function call displays the whole match, 415-555-4242."
      ]
    },
    {
      "cell_type": "code",
      "execution_count": null,
      "metadata": {
        "colab": {
          "base_uri": "https://localhost:8080/"
        },
        "id": "447xdtFAAkbT",
        "outputId": "9f99e940-8dc3-406d-fdd5-f4a531e5f998"
      },
      "outputs": [
        {
          "name": "stdout",
          "output_type": "stream",
          "text": [
            "Phone number found: 415-555-4242\n"
          ]
        }
      ],
      "source": [
        "import re\n",
        "\n",
        "phoneNumRegex = re.compile(r'\\d\\d\\d-\\d\\d\\d-\\d\\d\\d\\d')\n",
        "mo = phoneNumRegex.search('My number is 415-555-4242.')\n",
        "print('Phone number found: ' + mo.group())"
      ]
    },
    {
      "cell_type": "markdown",
      "metadata": {
        "id": "U1GU3Yd1D-sD"
      },
      "source": [
        "##**Grouping with Parentheses**\n",
        "\n",
        "Say you want to separate the area code from the rest of the phone number. Adding parentheses will create groups in the regex: (\\d\\d\\d)-(\\d\\d\\d-\\d\\d\\d\\d). Then you can use the group() match object method to grab the matching text from just one group.\n",
        "\n",
        "The first set of parentheses in a regex string will be group 1. The second set will be group 2. By passing the integer 1 or 2 to the group() match object method, you can grab different parts of the matched text. Passing 0 or nothing to the group() method will return the entire matched text."
      ]
    },
    {
      "cell_type": "code",
      "execution_count": null,
      "metadata": {
        "colab": {
          "base_uri": "https://localhost:8080/"
        },
        "id": "i8EgYqZ9EXTQ",
        "outputId": "3ee0c9e1-a089-4f55-d5b6-23def4e2a296"
      },
      "outputs": [
        {
          "name": "stdout",
          "output_type": "stream",
          "text": [
            "415\n",
            "555-4242\n",
            "415-555-4242\n",
            "415-555-4242\n",
            "('415', '555-4242')\n",
            "415\n",
            "555-4242\n"
          ]
        }
      ],
      "source": [
        "import re\n",
        "\n",
        "phoneNumRegex = re.compile(r'(\\d\\d\\d)-(\\d\\d\\d-\\d\\d\\d\\d)')\n",
        "mo = phoneNumRegex.search('My number is 415-555-4242.')\n",
        "print(mo.group(1))\n",
        "print(mo.group(2))\n",
        "print(mo.group(0))\n",
        "print(mo.group())\n",
        "\n",
        "#If you would like to retrieve all the groups at once, use the groups() method—note the plural form for the name.\n",
        "print(mo.groups())\n",
        "areaCode, mainNumber = mo.groups()\n",
        "print(areaCode)\n",
        "print(mainNumber)"
      ]
    },
    {
      "cell_type": "markdown",
      "metadata": {
        "id": "KRGxd0-W_Rrx"
      },
      "source": [
        "##Parentheses have a special meaning in regular expressions, but what do you do if you need to match a parenthesis in your text? For instance, maybe the phone numbers you are trying to match have the area code set in parentheses. In this case, you need to escape the ( and ) characters with a backslash.\n",
        "\n",
        "\n",
        "The \\( and \\) escape characters in the raw string passed to re.compile() will match actual parenthesis characters. In regular expressions, the following characters have special meanings:\n",
        "\n",
        ".  ^  $  *  +  ?  {  }  [  ]  \\  |  (  )\n",
        "\n",
        "If you want to detect these characters as part of your text pattern, you need to escape them with a backslash:\n",
        "\n",
        "\\.  \\^  \\$  \\*  \\+  \\?  \\{  \\}  \\[  \\]  \\\\  \\|  \\(  \\) ##"
      ]
    },
    {
      "cell_type": "code",
      "execution_count": null,
      "metadata": {
        "colab": {
          "base_uri": "https://localhost:8080/"
        },
        "id": "UhnwPl5G_iX1",
        "outputId": "f4a6ef22-68b6-415e-df6a-5d653f3ede2a"
      },
      "outputs": [
        {
          "name": "stdout",
          "output_type": "stream",
          "text": [
            "(415)\n",
            "555-4242\n"
          ]
        }
      ],
      "source": [
        "phoneNumRegex = re.compile(r'(\\(\\d\\d\\d\\)) (\\d\\d\\d-\\d\\d\\d\\d)')\n",
        "mo = phoneNumRegex.search('My phone number is (415) 555-4242.')\n",
        "print(mo.group(1))\n",
        "print(mo.group(2))"
      ]
    },
    {
      "cell_type": "markdown",
      "metadata": {
        "id": "THKv68zdCAxW"
      },
      "source": [
        "#**Matching Multiple Groups with the Pipe**#\n",
        "The | character is called a pipe. You can use it anywhere you want to match one of many expressions. For example, the regular expression r'Batman|Tina Fey' will match either 'Batman' or 'Tina Fey'.\n",
        "\n",
        "When both Batman and Tina Fey occur in the searched string, the first occurrence of matching text will be returned as the Match object."
      ]
    },
    {
      "cell_type": "code",
      "execution_count": null,
      "metadata": {
        "colab": {
          "base_uri": "https://localhost:8080/"
        },
        "id": "JRy5xX4GCTFc",
        "outputId": "5cafcf34-0bc3-4603-deb8-67e5e0c7a1d0"
      },
      "outputs": [
        {
          "name": "stdout",
          "output_type": "stream",
          "text": [
            "Batman\n",
            "Tina Fey\n"
          ]
        }
      ],
      "source": [
        "heroRegex = re.compile (r'Batman|Tina Fey')\n",
        "mo1 = heroRegex.search('Batman and Tina Fey')\n",
        "print(mo1.group())\n",
        "\n",
        "mo2 = heroRegex.search('Tina Fey and Batman')\n",
        "print(mo2.group())"
      ]
    },
    {
      "cell_type": "markdown",
      "metadata": {
        "id": "glnCGr45E8K4"
      },
      "source": [
        "##You can also use the pipe to match one of several patterns as part of your regex. For example, say you wanted to match any of the strings 'Batman', 'Batmobile', 'Batcopter', and 'Batbat'. Since all these strings start with Bat, it would be nice if you could specify that prefix only once. This can be done with parentheses##"
      ]
    },
    {
      "cell_type": "code",
      "execution_count": null,
      "metadata": {
        "colab": {
          "base_uri": "https://localhost:8080/"
        },
        "id": "p4AstrIhFFI4",
        "outputId": "18d32eaa-a2ea-42bd-b87c-8dde6e548010"
      },
      "outputs": [
        {
          "name": "stdout",
          "output_type": "stream",
          "text": [
            "Batmobile\n",
            "mobile\n"
          ]
        }
      ],
      "source": [
        "batRegex = re.compile(r'Bat(man|mobile|copter|bat)')\n",
        "mo = batRegex.search('Batmobile lost a wheel')\n",
        "print(mo.group(0))\n",
        "print(mo.group(1))"
      ]
    },
    {
      "cell_type": "markdown",
      "metadata": {
        "id": "EC4esiQVHRWi"
      },
      "source": [
        "#**Optional Matching with the Question Mark**#\n",
        "\n",
        "Sometimes there is a pattern that you want to match only optionally. That is, the regex should find a match regardless of whether that bit of text is there. The ? character flags the group that precedes it as an optional part of the pattern."
      ]
    },
    {
      "cell_type": "code",
      "execution_count": null,
      "metadata": {
        "colab": {
          "base_uri": "https://localhost:8080/"
        },
        "id": "Uj-rv_1gHmqb",
        "outputId": "82e45813-8298-495e-f565-d2de7533e022"
      },
      "outputs": [
        {
          "name": "stdout",
          "output_type": "stream",
          "text": [
            "Batman\n",
            "Batwoman\n"
          ]
        }
      ],
      "source": [
        "batRegex = re.compile(r'Bat(wo)?man')\n",
        "mo1 = batRegex.search('The Adventures of Batman')\n",
        "print(mo1.group())\n",
        "\n",
        "mo2 = batRegex.search('The Adventures of Batwoman')\n",
        "print(mo2.group())"
      ]
    },
    {
      "cell_type": "markdown",
      "metadata": {
        "id": "SMXNjD6pIcKp"
      },
      "source": [
        "##*The (wo)? part of the regular expression means that the pattern wo is an optional group. The regex will match text that has zero instances or one instance of wo in it. This is why the regex matches both 'Batwoman' and 'Batman'.\n",
        "\n",
        "Using the earlier phone number example, you can make the regex look for phone numbers that do or do not have an area code.\n",
        "\n",
        "You can think of the ? as saying, “Match zero or one of the group preceding this question mark.”\n",
        "\n",
        "If you need to match an actual question mark character, escape it with \\?.*##"
      ]
    },
    {
      "cell_type": "code",
      "execution_count": null,
      "metadata": {
        "colab": {
          "base_uri": "https://localhost:8080/"
        },
        "id": "80sBzLAGJD4J",
        "outputId": "7750c43e-4ee9-44f9-81b7-b0395314bf5a"
      },
      "outputs": [
        {
          "name": "stdout",
          "output_type": "stream",
          "text": [
            "415-555-4242\n",
            "555-4242\n"
          ]
        }
      ],
      "source": [
        "phoneRegex = re.compile(r'(\\d\\d\\d-)?\\d\\d\\d-\\d\\d\\d\\d')\n",
        "mo1 = phoneRegex.search('My number is 415-555-4242')\n",
        "print(mo1.group())\n",
        "\n",
        "mo2 = phoneRegex.search('My number is 555-4242')\n",
        "print(mo2.group())"
      ]
    },
    {
      "cell_type": "markdown",
      "metadata": {
        "id": "fMMhQJC0Kjxa"
      },
      "source": [
        "#**Matching Zero or More with the Star**#\n",
        "\n",
        "The * (called the star or asterisk) means “match zero or more”—the group that precedes the star can occur any number of times in the text. It can be completely absent or repeated over and over again."
      ]
    },
    {
      "cell_type": "code",
      "execution_count": null,
      "metadata": {
        "id": "PzS17FJrKyOF"
      },
      "outputs": [],
      "source": [
        "batRegex = re.compile(r'Bat(wo)*man')\n",
        "mo1 = batRegex.search('The Adventures of Batman')\n",
        "print(mo1.group())\n",
        "\n",
        "mo2 = batRegex.search ('The Adventures of Batwoman')\n",
        "print(mo2.group ())\n",
        "\n",
        "mo3 = batRegex.search('The Adventures of Batwowowowoman')\n",
        "print(mo3.group())"
      ]
    },
    {
      "cell_type": "markdown",
      "metadata": {
        "id": "h217HbMHK50d"
      },
      "source": [
        "#**Matching One or More with the Plus**#\n",
        "\n",
        "While * means “match zero or more,” the + (or plus) means “match one or more.” Unlike the star, which does not require its group to appear in the matched string, the group preceding a plus must appear at least once. It is not optional."
      ]
    },
    {
      "cell_type": "code",
      "execution_count": null,
      "metadata": {
        "colab": {
          "base_uri": "https://localhost:8080/"
        },
        "id": "7CcqK2QULLhA",
        "outputId": "c0bd23ad-2791-4c63-92cf-0272d438a91a"
      },
      "outputs": [
        {
          "name": "stdout",
          "output_type": "stream",
          "text": [
            "Batwoman\n",
            "Batwowowowoman\n"
          ]
        },
        {
          "data": {
            "text/plain": [
              "True"
            ]
          },
          "execution_count": 3,
          "metadata": {},
          "output_type": "execute_result"
        }
      ],
      "source": [
        "batRegex = re.compile(r'Bat(wo)+man')\n",
        "\n",
        "mo1 = batRegex.search('The Adventures of Batwoman')\n",
        "print(mo1.group())\n",
        "\n",
        "\n",
        "mo2 = batRegex.search('The Adventures of Batwowowowoman')\n",
        "print(mo2.group())\n",
        "\n",
        "mo3 = batRegex.search('The Adventures of Batman')\n",
        "mo3 == None\n",
        "#The regex Bat(wo)+man will not match the string 'The Adventures of Batman',\n",
        "#because at least one wo is required by the plus sign.\n"
      ]
    },
    {
      "cell_type": "markdown",
      "metadata": {
        "id": "KtKx9ZdLOnc-"
      },
      "source": [
        "#**Matching Specific Repetitions with Braces**#\n",
        "\n",
        "If you have a group that you want to repeat a specific number of times, follow the group in your regex with a number in braces. For example, the regex (Ha){3} will match the string 'HaHaHa', but it will not match 'HaHa', since the latter has only two repeats of the (Ha) group.\n",
        "\n",
        "Instead of one number, you can specify a range by writing a minimum, a comma, and a maximum in between the braces. For example, the regex (Ha){3,5} will match 'HaHaHa', 'HaHaHaHa', and 'HaHaHaHaHa'.\n",
        "\n",
        "You can also leave out the first or second number in the braces to leave the minimum or maximum unbounded. For example, (Ha){3,} will match three or more instances of the (Ha) group, while (Ha){,5} will match zero to five instances. Braces can help make your regular expressions shorter. These two regular expressions match identical patterns:"
      ]
    },
    {
      "cell_type": "code",
      "execution_count": null,
      "metadata": {
        "colab": {
          "base_uri": "https://localhost:8080/"
        },
        "id": "7yEyY52lOx08",
        "outputId": "45bc4193-7c03-4b46-b5aa-d33dbc997558"
      },
      "outputs": [
        {
          "name": "stdout",
          "output_type": "stream",
          "text": [
            "HaHaHa\n"
          ]
        }
      ],
      "source": [
        "#(Ha){3}\n",
        "#(Ha)(Ha)(Ha)\n",
        "\n",
        "#And these two regular expressions also match identical patterns:\n",
        "#(Ha){3,5}\n",
        "#((Ha)(Ha)(Ha))|((Ha)(Ha)(Ha)(Ha))|((Ha)(Ha)(Ha)(Ha)(Ha))\n",
        "\n",
        "haRegex = re.compile(r'(Ha){3}')\n",
        "\n",
        "mo1 = haRegex.search('HaHaHa')\n",
        "print(mo1.group())\n",
        "\n",
        "mo2 = haRegex.search('Ha')\n",
        "mo2 == None\n",
        "#Here, (Ha){3} matches 'HaHaHa' but not 'Ha'.\n",
        "#Since it doesn’t match 'Ha', search() returns None."
      ]
    },
    {
      "cell_type": "markdown",
      "metadata": {
        "id": "qutTn8vyTZLV"
      },
      "source": [
        "#**Greedy and Non-greedy Matching**#\n",
        "\n",
        "Since (Ha){3,5} can match three, four, or five instances of Ha in the string 'HaHaHaHaHa', you may wonder why the Match object’s call to group() in the previous brace example returns 'HaHaHaHaHa' instead of the shorter possibilities. After all, 'HaHaHa' and 'HaHaHaHa' are also valid matches of the regular expression (Ha){3,5}.\n",
        "\n",
        "Python’s regular expressions are greedy by default, which means that in ambiguous situations they will match the longest string possible. The non-greedy (also called lazy) version of the braces, which matches the shortest string possible, has the closing brace followed by a question mark."
      ]
    },
    {
      "cell_type": "code",
      "execution_count": null,
      "metadata": {
        "colab": {
          "base_uri": "https://localhost:8080/"
        },
        "id": "jm_-YiaPTnvS",
        "outputId": "ffa58925-5f55-45a5-ec3b-3b8c41d22506"
      },
      "outputs": [
        {
          "name": "stdout",
          "output_type": "stream",
          "text": [
            "HaHaHaHaHa\n",
            "HaHaHa\n"
          ]
        }
      ],
      "source": [
        "greedyHaRegex = re.compile(r'(Ha){3,5}')\n",
        "\n",
        "mo1 = greedyHaRegex.search('HaHaHaHaHa')\n",
        "print(mo1.group())\n",
        "\n",
        "nongreedyHaRegex = re.compile(r'(Ha){3,5}?')\n",
        "\n",
        "mo2 = nongreedyHaRegex.search('HaHaHaHaHa')\n",
        "print(mo2.group())\n",
        "#Note that the question mark can have two meanings in regular expressions:\n",
        "#declaring a non-greedy match or flagging an optional group.\n",
        "#These meanings are entirely unrelated."
      ]
    },
    {
      "cell_type": "markdown",
      "metadata": {
        "id": "4HEyJeGiVINO"
      },
      "source": [
        "#**The findall() Method**#\n",
        "\n",
        "In addition to the search() method, Regex objects also have a findall() method. While search() will return a Match object of the first matched text in the searched string, the findall() method will return the strings of every match in the searched string.\n",
        "\n",
        "To summarize what the findall() method returns, remember the following:\n",
        "\n",
        "When called on a regex with no groups, such as \\d\\d\\d-\\d\\d\\d-\\d\\d\\d\\d, the method findall() returns a list of string matches, such as ['415-555-9999', '212-555-0000'].\n",
        "When called on a regex that has groups, such as (\\d\\d\\d)-(\\d\\d\\d)-(\\d\\d\\d\\d), the method findall() returns a list of tuples of strings (one string for each group), such as [('415', '555', '9999'), ('212', '555', '0000')]."
      ]
    },
    {
      "cell_type": "code",
      "execution_count": null,
      "metadata": {
        "colab": {
          "base_uri": "https://localhost:8080/"
        },
        "id": "GKaoNuPbVTG6",
        "outputId": "e888e09d-a8d0-4497-b4fe-72bef8d49ce2"
      },
      "outputs": [
        {
          "name": "stdout",
          "output_type": "stream",
          "text": [
            "415-555-9999\n"
          ]
        },
        {
          "data": {
            "text/plain": [
              "[('415', '555', '9999'), ('212', '555', '0000')]"
            ]
          },
          "execution_count": 8,
          "metadata": {},
          "output_type": "execute_result"
        }
      ],
      "source": [
        "phoneNumRegex = re.compile(r'\\d\\d\\d-\\d\\d\\d-\\d\\d\\d\\d')\n",
        "\n",
        "mo = phoneNumRegex.search('Cell: 415-555-9999 Work: 212-555-0000')\n",
        "print(mo.group())\n",
        "\n",
        "#On the other hand, findall() will not return a Match object but a list of\n",
        "#strings—as long as there are no groups in the regular expression.\n",
        "#Each string in the list is a piece of the searched text that matched the\n",
        "#regular expression.\n",
        "phoneNumRegex = re.compile(r'\\d\\d\\d-\\d\\d\\d-\\d\\d\\d\\d') # has no groups\n",
        "phoneNumRegex.findall('Cell: 415-555-9999 Work: 212-555-0000')\n",
        "\n",
        "#If there are groups in the regular expression, then findall() will return a list of tuples.\n",
        "#Each tuple represents a found match,\n",
        "#and its items are the matched strings for each group in the regex.\n",
        "phoneNumRegex = re.compile(r'(\\d\\d\\d)-(\\d\\d\\d)-(\\d\\d\\d\\d)') # has groups\n",
        "phoneNumRegex.findall('Cell: 415-555-9999 Work: 212-555-0000')"
      ]
    },
    {
      "cell_type": "markdown",
      "metadata": {
        "id": "iS6DIcxWTeC1"
      },
      "source": [
        "#**Character Classes**#\n",
        "In the earlier phone number regex example, you learned that \\d could stand for any numeric digit. That is, \\d is shorthand for the regular expression (0|1|2|3|4|5|6|7|8|9).\n",
        "\n",
        "Shorthand character class\n",
        "\n",
        "Represents\n",
        "\n",
        "\\d\n",
        "\n",
        "Any numeric digit from 0 to 9.\n",
        "\n",
        "\\D\n",
        "\n",
        "Any character that is not a numeric digit from 0 to 9.\n",
        "\n",
        "\\w\n",
        "\n",
        "Any letter, numeric digit, or the underscore character. (Think of this as matching “word” characters.)\n",
        "\n",
        "\\W\n",
        "\n",
        "Any character that is not a letter, numeric digit, or the underscore character.\n",
        "\n",
        "\\s\n",
        "\n",
        "Any space, tab, or newline character. (Think of this as matching “space” characters.)\n",
        "\n",
        "\\S\n",
        "\n",
        "Any character that is not a space, tab, or newline.\n",
        "\n",
        "Character classes are nice for shortening regular expressions. The character class [0-5] will match only the numbers 0 to 5; this is much shorter than typing (0|1|2|3|4|5). Note that while \\d matches digits and \\w matches digits, letters, and the underscore, there is no shorthand character class that matches only letters. (Though you can use the [a-zA-Z] character class, as explained next.)"
      ]
    },
    {
      "cell_type": "code",
      "execution_count": null,
      "metadata": {
        "colab": {
          "base_uri": "https://localhost:8080/"
        },
        "id": "gBqtdOF_UIB7",
        "outputId": "c95cd5e2-9985-404a-c3b7-437a4bea78df"
      },
      "outputs": [
        {
          "data": {
            "text/plain": [
              "['12 drummers',\n",
              " '11 pipers',\n",
              " '10 lords',\n",
              " '9 ladies',\n",
              " '8 maids',\n",
              " '7 swans',\n",
              " '6 geese',\n",
              " '5 rings',\n",
              " '4 birds',\n",
              " '3 hens',\n",
              " '2 doves',\n",
              " '1 partridge']"
            ]
          },
          "execution_count": 3,
          "metadata": {},
          "output_type": "execute_result"
        }
      ],
      "source": [
        "import re\n",
        "\n",
        "xmasRegex = re.compile(r'\\d+\\s\\w+', re.IGNORECASE)\n",
        "\n",
        "xmasRegex.findall('12 drummers, 11 pipers, 10 lords, 9 ladies, 8 maids, \\\n",
        "7 swans, 6 geese, 5 rings, 4 birds, 3 hens, 2 doves, 1 partridge')\n",
        "#The regular expression \\d+\\s\\w+ will match text that has one or more numeric digits (\\d+),\n",
        "#followed by a whitespace character (\\s), followed by one or more letter/digit/underscore characters (\\w+).\n",
        "#The findall() method returns all matching strings of the regex pattern in a list."
      ]
    },
    {
      "cell_type": "markdown",
      "metadata": {
        "id": "EJwmCe1FWbhL"
      },
      "source": [
        "#**Making Your Own Character Classes**#\n",
        "\n",
        "There are times when you want to match a set of characters but the shorthand character classes (\\d, \\w, \\s, and so on) are too broad. You can define your own character class using square brackets. For example, the character class [aeiouAEIOU] will match any vowel, both lowercase and uppercase."
      ]
    },
    {
      "cell_type": "code",
      "execution_count": null,
      "metadata": {
        "colab": {
          "base_uri": "https://localhost:8080/"
        },
        "id": "C_RGiSolWjlN",
        "outputId": "d20f2799-523c-4cd2-d690-28bbacbe8b81"
      },
      "outputs": [
        {
          "data": {
            "text/plain": [
              "['o', 'o', 'o', 'e', 'a', 'a', 'o', 'o', 'A', 'O', 'O']"
            ]
          },
          "execution_count": 4,
          "metadata": {},
          "output_type": "execute_result"
        }
      ],
      "source": [
        "vowelRegex = re.compile(r'[aeiouAEIOU]')\n",
        "vowelRegex.findall('RoboCop eats baby food. BABY FOOD.')"
      ]
    },
    {
      "cell_type": "markdown",
      "metadata": {
        "id": "I0X3Z7kmXad2"
      },
      "source": [
        "#**You can also include ranges of letters or numbers by using a hyphen. For example, the character class [a-zA-Z0-9] will match all lowercase letters, uppercase letters, and numbers.\n",
        "\n",
        "Note that inside the square brackets, the normal regular expression symbols are not interpreted as such. This means you do not need to escape the ., *, ?, or () characters with a preceding backslash. For example, the character class [0-5.] will match digits 0 to 5 and a period. You do not need to write it as [0-5\\.].\n",
        "\n",
        "By placing a caret character (^) just after the character class’s opening bracket, you can make a negative character class. A negative character class will match all the characters that are not in the character class.*##"
      ]
    },
    {
      "cell_type": "code",
      "execution_count": null,
      "metadata": {
        "colab": {
          "base_uri": "https://localhost:8080/"
        },
        "id": "P0NGDzXyXtlj",
        "outputId": "73d5b300-fad5-4db8-d50d-59884bb4462c"
      },
      "outputs": [
        {
          "data": {
            "text/plain": [
              "['R',\n",
              " 'b',\n",
              " 'C',\n",
              " 'p',\n",
              " ' ',\n",
              " 't',\n",
              " 's',\n",
              " ' ',\n",
              " 'b',\n",
              " 'b',\n",
              " 'y',\n",
              " ' ',\n",
              " 'f',\n",
              " 'd',\n",
              " '.',\n",
              " ' ',\n",
              " 'B',\n",
              " 'B',\n",
              " 'Y',\n",
              " ' ',\n",
              " 'F',\n",
              " 'D',\n",
              " '.']"
            ]
          },
          "execution_count": 5,
          "metadata": {},
          "output_type": "execute_result"
        }
      ],
      "source": [
        "consonantRegex = re.compile(r'[^aeiouAEIOU]')\n",
        "consonantRegex.findall('RoboCop eats baby food. BABY FOOD.')"
      ]
    },
    {
      "cell_type": "markdown",
      "metadata": {
        "id": "Kvdc7Q7vZbNm"
      },
      "source": [
        "#**The Caret and Dollar Sign Characters**#\n",
        "\n",
        "You can also use the caret symbol (^) at the start of a regex to indicate that a match must occur at the beginning of the searched text. Likewise, you can put a dollar sign ($) at the end of the regex to indicate the string must end with this regex pattern. And you can use the ^ and $ together to indicate that the entire string must match the regex—that is, it’s not enough for a match to be made on some subset of the string.\n",
        "\n",
        "For example, the r'^Hello' regular expression string matches strings that begin with 'Hello'."
      ]
    },
    {
      "cell_type": "code",
      "execution_count": null,
      "metadata": {
        "colab": {
          "base_uri": "https://localhost:8080/"
        },
        "id": "62-GRUbFZoXJ",
        "outputId": "28b70e92-74ec-4b51-e84d-b3de38781704"
      },
      "outputs": [
        {
          "name": "stdout",
          "output_type": "stream",
          "text": [
            "<re.Match object; span=(0, 5), match='Hello'>\n",
            "<re.Match object; span=(16, 17), match='2'>\n",
            "<re.Match object; span=(0, 10), match='1234567890'>\n"
          ]
        },
        {
          "data": {
            "text/plain": [
              "True"
            ]
          },
          "execution_count": 8,
          "metadata": {},
          "output_type": "execute_result"
        }
      ],
      "source": [
        "beginsWithHello = re.compile(r'^Hello')\n",
        "\n",
        "begin1 = beginsWithHello.search('Hello, world!')\n",
        "beginsWithHello.search('He said hello.') == None\n",
        "print(begin1)\n",
        "\n",
        "\n",
        "#The r'\\d$' regular expression string matches strings that end with\n",
        "#a numeric character from 0 to 9.\n",
        "endsWithNumber = re.compile(r'\\d$')\n",
        "\n",
        "end1 = endsWithNumber.search('Your number is 42')\n",
        "endsWithNumber.search('Your number is forty two.') == None\n",
        "print(end1)\n",
        "\n",
        "#The r'^\\d+$' regular expression string matches strings that both begin\n",
        "#and end with one or more numeric characters.\n",
        "wholeStringIsNum = re.compile(r'^\\d+$')\n",
        "\n",
        "whole = wholeStringIsNum.search('1234567890')\n",
        "print(whole)\n",
        "wholeStringIsNum.search('12345xyz67890') == None\n",
        "wholeStringIsNum.search('12  34567890') == None\n",
        "\n",
        "#The last two search() calls in the previous interactive shell example demonstrate\n",
        "#how the entire string must match the regex if ^ and $ are used.\n",
        "\n",
        "#I always confuse the meanings of these two symbols,\n",
        "#so I use the mnemonic “Carrots cost dollars” to remind myself that the caret\n",
        "#comes first and the dollar sign comes last.\n"
      ]
    },
    {
      "cell_type": "markdown",
      "metadata": {
        "id": "E2u4snv3e4qP"
      },
      "source": [
        "#**The Wildcard Character**#\n",
        "The . (or dot) character in a regular expression is called a wildcard and will match any character except for a newline.\n",
        "\n",
        "Remember that the dot character will match just one character, which is why the match for the text flat in the previous example matched only lat."
      ]
    },
    {
      "cell_type": "code",
      "execution_count": null,
      "metadata": {
        "colab": {
          "base_uri": "https://localhost:8080/"
        },
        "id": "gX4avpDcfCF4",
        "outputId": "673090ad-658a-418d-9863-205a2d3ca5cb"
      },
      "outputs": [
        {
          "data": {
            "text/plain": [
              "['cat', 'hat', 'sat', 'lat', 'mat']"
            ]
          },
          "execution_count": 9,
          "metadata": {},
          "output_type": "execute_result"
        }
      ],
      "source": [
        "atRegex = re.compile(r'.at')\n",
        "\n",
        "atRegex.findall('The cat in the hat sat on the flat mat.')"
      ]
    },
    {
      "cell_type": "markdown",
      "metadata": {
        "id": "Aqy1-xEmxnx6"
      },
      "source": [
        "#**Matching Everything with Dot-Sta**#\n",
        "Sometimes you will want to match everything and anything. For example, say you want to match the string 'First Name:', followed by any and all text, followed by 'Last Name:', and then followed by anything again. You can use the dot-star (.*) to stand in for that “anything.” Remember that the dot character means “any single character except the newline,” and the star character means “zero or more of the preceding character.”"
      ]
    },
    {
      "cell_type": "code",
      "execution_count": null,
      "metadata": {
        "colab": {
          "base_uri": "https://localhost:8080/"
        },
        "id": "BozNWla5x-o-",
        "outputId": "d7fbb14a-86d1-4f7b-e974-3ce76d505ca7"
      },
      "outputs": [
        {
          "name": "stdout",
          "output_type": "stream",
          "text": [
            "Al\n",
            "Sweigart\n",
            "<To serve man>\n",
            "<To serve man> for dinner.>\n"
          ]
        }
      ],
      "source": [
        "import re\n",
        "\n",
        "nameRegex = re.compile(r'First Name: (.*) Last Name: (.*)')\n",
        "mo = nameRegex.search('First Name: Al Last Name: Sweigart')\n",
        "print(mo.group(1))\n",
        "print(mo.group(2))\n",
        "\n",
        "#The dot-star uses greedy mode: It will always try to match as much text as possible.\n",
        "#To match any and all text in a non-greedy fashion, use the dot, star, and question mark (.*?).\n",
        "#Like with braces, the question mark tells Python to match in a non-greedy way.\n",
        "nongreedyRegex = re.compile(r'<.*?>')\n",
        "mogreedy = nongreedyRegex.search('<To serve man> for dinner.>')\n",
        "print(mogreedy.group())\n",
        "\n",
        "\n",
        "greedyRegex = re.compile(r'<.*>')\n",
        "mo = greedyRegex.search('<To serve man> for dinner.>')\n",
        "print(mo.group())\n"
      ]
    },
    {
      "cell_type": "markdown",
      "metadata": {
        "id": "l8UzLBeu2AUA"
      },
      "source": [
        "#**Matching Newlines with the Dot Character**#\n",
        "The dot-star will match everything except a newline. By passing re.DOTALL as the second argument to re.compile(), you can make the dot character match all characters, including the newline character."
      ]
    },
    {
      "cell_type": "code",
      "execution_count": null,
      "metadata": {
        "colab": {
          "base_uri": "https://localhost:8080/"
        },
        "id": "fyCq7zgd2OBz",
        "outputId": "dd057d77-52b0-44dd-aaa5-9fd46482aa90"
      },
      "outputs": [
        {
          "name": "stdout",
          "output_type": "stream",
          "text": [
            "Serve the public trust.\n",
            "Protect the innocent.\n",
            "Uphold the law.\n"
          ]
        }
      ],
      "source": [
        "noNewlineRegex = re.compile(r'.*')\n",
        "noNewlineRegex.search('Serve the public trust.\\nProtect the innocent.\\nUphold the law.').group()\n",
        "newlineRegex = re.compile('.*', re.DOTALL)\n",
        "print(newlineRegex.search('Serve the public trust.\\nProtect the innocent.\\nUphold the law.').group())\n"
      ]
    },
    {
      "cell_type": "markdown",
      "metadata": {
        "id": "_dCk839PbyDV"
      },
      "source": [
        "#**Review of Regex Symbols**#\n",
        "This chapter covered a lot of notation, so here’s a quick review of what you learned about basic regular expression syntax:\n",
        "\n",
        "The ? matches zero or one of the preceding group.\n",
        "\n",
        "The * matches zero or more of the preceding group.\n",
        "\n",
        "The + matches one or more of the preceding group.\n",
        "\n",
        "The {n} matches exactly n of the preceding group.\n",
        "\n",
        "The {n,} matches n or more of the preceding group.\n",
        "\n",
        "The {,m} matches 0 to m of the preceding group.\n",
        "\n",
        "The {n,m} matches at least n and at most m of the preceding group.\n",
        "\n",
        "{n,m}? or *? or +? performs a non-greedy match of the preceding group.\n",
        "\n",
        "^spam means the string must begin with spam.\n",
        "\n",
        "spam$ means the string must end with spam.\n",
        "\n",
        "The . matches any character, except newline characters.\n",
        "\n",
        "\\d, \\w, and \\s match a digit, word, or space character, respectively.\n",
        "\n",
        "\\D, \\W, and \\S match anything except a digit, word, or space character, respectively.\n",
        "\n",
        "[abc] matches any character between the brackets (such as a, b, or c).\n",
        "\n",
        "[^abc] matches any character that isn’t between the brackets."
      ]
    },
    {
      "cell_type": "markdown",
      "metadata": {
        "id": "-iTl8ZXQc8pN"
      },
      "source": [
        "#**Case-Insensitive Matching**#\n",
        "\n",
        "Normally, regular expressions match text with the exact casing you specify.\n",
        "\n",
        "But sometimes you care only about matching the letters without worrying whether they’re uppercase or lowercase. To make your regex case-insensitive, you can pass re.IGNORECASE or re.I as a second argument to re.compile()."
      ]
    },
    {
      "cell_type": "code",
      "execution_count": null,
      "metadata": {
        "colab": {
          "base_uri": "https://localhost:8080/"
        },
        "id": "3MejI58WdDsk",
        "outputId": "16d72834-f137-4b0a-dd77-112e7dd9387d"
      },
      "outputs": [
        {
          "name": "stdout",
          "output_type": "stream",
          "text": [
            "RoboCop\n",
            "ROBOCOP\n",
            "robocop\n"
          ]
        }
      ],
      "source": [
        "regex1 = re.compile('RoboCop')\n",
        "regex2 = re.compile('ROBOCOP')\n",
        "regex3 = re.compile('robOcop')\n",
        "regex4 = re.compile('RobocOp')\n",
        "\n",
        "robocop = re.compile(r'robocop', re.I)\n",
        "print(robocop.search('RoboCop is part man, part machine, all cop.').group())\n",
        "\n",
        "print(robocop.search('ROBOCOP protects the innocent.').group())\n",
        "\n",
        "print(robocop.search('Al, why does your programming book talk about robocop so much?').group())"
      ]
    },
    {
      "cell_type": "markdown",
      "metadata": {
        "id": "LylRq6FigoUP"
      },
      "source": [
        "#**Substituting Strings with the sub() Method**#\n",
        "Regular expressions can not only find text patterns but can also substitute new text in place of those patterns. The sub() method for Regex objects is passed two arguments. The first argument is a string to replace any matches. The second is the string for the regular expression. The sub() method returns a string with the substitutions applied.\n",
        "\n",
        "\n",
        "Sometimes you may need to use the matched text itself as part of the substitution. In the first argument to sub(), you can type \\1, \\2, \\3, and so on, to mean “Enter the text of group 1, 2, 3, and so on, in the substitution.”\n",
        "\n",
        "For example, say you want to censor the names of the secret agents by showing just the first letters of their names. To do this, you could use the regex Agent (\\w)\\w* and pass r'\\1****' as the first argument to sub(). The \\1 in that string will be replaced by whatever text was matched by group 1—that is, the (\\w) group of the regular expression."
      ]
    },
    {
      "cell_type": "code",
      "execution_count": null,
      "metadata": {
        "colab": {
          "base_uri": "https://localhost:8080/"
        },
        "id": "dB4gcLjvg0_o",
        "outputId": "50c257ee-aa05-45d4-9769-023178268b22"
      },
      "outputs": [
        {
          "name": "stdout",
          "output_type": "stream",
          "text": [
            "A**** told C**** that E**** knew B**** was a double agent.\n"
          ]
        }
      ],
      "source": [
        "namesRegex = re.compile(r'Agent \\w+')\n",
        "namesRegex.sub('CENSORED', 'Agent Alice gave the secret documents to Agent Bob.')\n",
        "\n",
        "import re\n",
        "\n",
        "agentNamesRegex = re.compile(r'Agent (\\w)\\w*')\n",
        "print(agentNamesRegex.sub(r'\\1****', 'Agent Alice told Agent Carol that Agent Eve knew Agent Bob was a double agent.'))"
      ]
    },
    {
      "cell_type": "markdown",
      "metadata": {
        "id": "TX6qS2pZiggx"
      },
      "source": [
        "#**Managing Complex Regexes**#\n",
        "Regular expressions are fine if the text pattern you need to match is simple. But matching complicated text patterns might require long, convoluted regular expressions. You can mitigate this by telling the re.compile() function to ignore whitespace and comments inside the regular expression string. This “verbose mode” can be enabled by passing the variable re.VERBOSE as the second argument to re.compile()."
      ]
    },
    {
      "cell_type": "code",
      "execution_count": null,
      "metadata": {
        "id": "f3XfLxK2i2Qb"
      },
      "outputs": [],
      "source": [
        "#Now instead of a hard-to-read regular expression like this:\n",
        "\n",
        "phoneRegex = re.compile(r'((\\d{3}|\\(\\d{3}\\))?(\\s|-|\\.)?\\d{3}(\\s|-|\\.)\\d{4}\n",
        "(\\s*(ext|x|ext.)\\s*\\d{2,5})?)')\n",
        "\n",
        "#you can spread the regular expression over multiple lines with comments like this:\n",
        "phoneRegex = re.compile(r'''(\n",
        "        (\\d{3}|\\(\\d{3}\\))?            # area code\n",
        "            (\\s|-|\\.)?                    # separator\n",
        "                \\d{3}                         # first 3 digits\n",
        "                    (\\s|-|\\.)                     # separator\n",
        "                        \\d{4}                         # last 4 digits\n",
        "                            (\\s*(ext|x|ext.)\\s*\\d{2,5})?  # extension\n",
        "                                )''', re.VERBOSE)\n",
        "))\n"
      ]
    },
    {
      "cell_type": "markdown",
      "metadata": {
        "id": "CVFIABv0ITrT"
      },
      "source": [
        "#**Combining re.IGNORECASE, re.DOTALL, and re.VERBOSE**#\n",
        "\n",
        "What if you want to use re.VERBOSE to write comments in your regular expression but also want to use re.IGNORECASE to ignore capitalization? Unfortunately, the re.compile() function takes only a single value as its second argument. You can get around this limitation by combining the re.IGNORECASE, re.DOTALL, and re.VERBOSE variables using the pipe character (|), which in this context is known as the bitwise or operator.\n",
        "\n",
        "So if you want a regular expression that’s case-insensitive and includes newlines to match the dot character, you would form your re.compile() call like this:"
      ]
    },
    {
      "cell_type": "code",
      "execution_count": null,
      "metadata": {
        "id": "UU9-kPDNIdGv"
      },
      "outputs": [],
      "source": [
        "someRegexValue = re.compile('foo', re.IGNORECASE | re.DOTALL | re.VERBOSE)"
      ]
    },
    {
      "cell_type": "markdown",
      "metadata": {
        "id": "io-nhBEQJgIk"
      },
      "source": [
        "#**Project: Phone Number and Email Address Extractor**#\n",
        "\n",
        "##*Step 1: Create a Regex for Phone Numbers*##"
      ]
    },
    {
      "cell_type": "code",
      "execution_count": null,
      "metadata": {
        "id": "bb2bauaOKP3y"
      },
      "outputs": [],
      "source": [
        "import pyperclip, re\n",
        "\n",
        "phoneRegex = re.compile(r'''(\n",
        "        (\\d{3}|\\(\\d{3}\\))?                # area code\n",
        "            (\\s|-|\\.)?                        # separator\n",
        "                (\\d{3})                           # first 3 digits\n",
        "                    (\\s|-|\\.)                         # separator\n",
        "                        (\\d{4})                           # last 4 digits\n",
        "                            (\\s*(ext|x|ext.)\\s*(\\d{2,5}))?    # extension\n",
        "                                )''', re.VERBOSE)\n",
        "\n",
        "# TODO: Create email regex.\n",
        "\n",
        "# TODO: Find matches in clipboard text.\n",
        "\n",
        "# TODO: Copy results to the clipboard.\n"
      ]
    },
    {
      "cell_type": "markdown",
      "source": [
        "##*Step 2: Create a Regex for Email Addresses*##"
      ],
      "metadata": {
        "id": "vx6GrPtROApC"
      }
    },
    {
      "cell_type": "code",
      "source": [
        "phoneRegex = re.compile(r'''(\n",
        "    --snip--\n",
        "    # Create email regex.\n",
        "    [a-zA-Z0-9._%+-]+      # username\n",
        "    @                      # @ symbol\n",
        "    [a-zA-Z0-9.-]+         # domain name\n",
        "    (\\.[a-zA-Z]{2,4})       # dot-something\n",
        "     )''', re.VERBOSE)\n"
      ],
      "metadata": {
        "id": "6AGh0O4fOIlj"
      },
      "execution_count": null,
      "outputs": []
    },
    {
      "cell_type": "markdown",
      "source": [
        "#*Step 3: Find All Matches in the Clipboard Text*##\n",
        "\n",
        "Now that you have specified the regular expressions for phone numbers and email addresses, you can let Python’s re module do the hard work of finding all the matches on the clipboard. The pyperclip.paste() function will get a string value of the text on the clipboard, and the findall() regex method will return a list of tuples."
      ],
      "metadata": {
        "id": "uSoPhUHYQosb"
      }
    },
    {
      "cell_type": "code",
      "source": [
        "!apt install PyQt4"
      ],
      "metadata": {
        "colab": {
          "base_uri": "https://localhost:8080/"
        },
        "id": "bo5FqfxUZSqk",
        "outputId": "dac64124-5579-43e9-d0cd-0d712f53401f"
      },
      "execution_count": null,
      "outputs": [
        {
          "output_type": "stream",
          "name": "stdout",
          "text": [
            "Reading package lists... Done\n",
            "Building dependency tree... Done\n",
            "Reading state information... Done\n",
            "\u001b[1;31mE: \u001b[0mUnable to locate package PyQt4\u001b[0m\n"
          ]
        }
      ]
    },
    {
      "cell_type": "code",
      "source": [
        "# Find matches in the clipboard text\n",
        "text = str(pyperclip.paste())\n",
        "matches = []\n",
        "\n",
        "# Iterate through all phone number matches\n",
        "for groups in phoneRegex.findall(text):\n",
        "    # Format the phone number\n",
        "        phoneNum = '-'.join([groups[1], groups[3], groups[5]])\n",
        "\n",
        "        # Add extension if present\n",
        "        if groups[8] != '':\n",
        "            phoneNum += ' x' + groups[8]\n",
        "\n",
        "\n",
        "        # Append the formatted phone number to the matches list\n",
        "        matches.append(phoneNum)\n",
        "\n",
        "# Find email addresses in the text\n",
        "for groups in emailRegex.findall(text):\n",
        "    matches.append(groups[0])\n",
        "# Append the email address to the matches list\n",
        "\n"
      ],
      "metadata": {
        "id": "8p0Kn1hGUOLM"
      },
      "execution_count": null,
      "outputs": []
    },
    {
      "cell_type": "markdown",
      "source": [
        "##*Step 4: Join the Matches into a String for the Clipboard*##\n",
        "Now that you have the email addresses and phone numbers as a list of strings in matches, you want to put them on the clipboard. The pyperclip.copy() function takes only a single string value, not a list of strings, so you call the join() method on matches."
      ],
      "metadata": {
        "id": "u3b_yR8bWF_G"
      }
    },
    {
      "cell_type": "code",
      "source": [
        "for groups in emailRegex.findall(text):\n",
        "    matches.append(groups[0])\n",
        "# Copy results to the clipboard.\n",
        "if len(matches) > 0:\n",
        "    pyperclip.copy('\\n'.join(matches))\n",
        "    print('Copied to clipboard:')\n",
        "    print('\\n'.join(matches))\n",
        "else:\n",
        "    print('No phone numbers or email addresses found.')\n"
      ],
      "metadata": {
        "id": "uU9S3G5XWP1_"
      },
      "execution_count": null,
      "outputs": []
    },
    {
      "cell_type": "markdown",
      "source": [
        "#*Date Detection*##\n",
        "Write a regular expression that can detect dates in the DD/MM/YYYY format. Assume that the days range from 01 to 31, the months range from 01 to 12, and the years range from 1000 to 2999. Note that if the day or month is a single digit, it’ll have a leading zero.\n",
        "\n",
        "The regular expression doesn’t have to detect correct days for each month or for leap years; it will accept nonexistent dates like 31/02/2020 or 31/04/2021. Then store these strings into variables named month, day, and year, and write additional code that can detect if it is a valid date. April, June, September, and November have 30 days, February has 28 days, and the rest of the months have 31 days. February has 29 days in leap years. Leap years are every year evenly divisible by 4, except for years evenly divisible by 100, unless the year is also evenly divisible by 400. Note how this calculation makes it impossible to make a reasonably sized regular expression that can detect a valid date."
      ],
      "metadata": {
        "id": "tHNMNSRZTDHl"
      }
    },
    {
      "source": [
        "import re\n",
        "\n",
        "date_pattern = r'^(0[1-9]|[12][0-9]|3[01])/(0[1-9]|1[0-2])/([12][0-9]{3})'\n",
        "\n",
        "def is_valid_date(day, month, year):\n",
        "    # Check for leap year\n",
        "    is_leap_year = (year % 4 == 0 and year % 100 != 0) or year % 400 == 0\n",
        "\n",
        "    # Check for valid month and day\n",
        "    max_days = [31, 28 + is_leap_year, 31, 30, 31, 30, 31, 31, 30, 31, 30, 31]\n",
        "    if month < 1 or month > 12 or day < 1 or day > max_days[month - 1]:\n",
        "        return False\n",
        "\n",
        "    return True\n",
        "\n",
        "# Example usage\n",
        "date_str = \"31/12/2022\"\n",
        "match = re.match(date_pattern, date_str)\n",
        "\n",
        "if match:\n",
        "    day, month, year = map(int, match.groups())\n",
        "    if is_valid_date(day, month, year):\n",
        "        print(f\"Valid date: {date_str}\")\n",
        "    else:\n",
        "        print(f\"Invalid date: {date_str}\")\n",
        "else:\n",
        "    print(f\"Invalid date format: {date_str}\")"
      ],
      "cell_type": "code",
      "metadata": {
        "colab": {
          "base_uri": "https://localhost:8080/"
        },
        "id": "jQCQt2E6T1Gm",
        "outputId": "29ce1498-8e72-408b-f42d-0d8eeb2e9787"
      },
      "execution_count": null,
      "outputs": [
        {
          "output_type": "stream",
          "name": "stdout",
          "text": [
            "Valid date: 31/12/2022\n"
          ]
        }
      ]
    },
    {
      "cell_type": "markdown",
      "source": [
        "##*Strong Password Detection*##\n",
        "Write a function that uses regular expressions to make sure the password string it is passed is strong. A strong password is defined as one that is at least eight characters long, contains both uppercase and lowercase characters, and has at least one digit. You may need to test the string against multiple regex patterns to validate its strength."
      ],
      "metadata": {
        "id": "W2sqo7HXUP51"
      }
    },
    {
      "source": [
        "import re\n",
        "\n",
        "def is_strong_password(password):\n",
        "    # Check length (at least 8 characters)\n",
        "    if len(password) < 8:\n",
        "        return False\n",
        "\n",
        "    # Check for at least one uppercase letter\n",
        "    if not re.search(r'[A-Z]', password):\n",
        "        return False\n",
        "\n",
        "    # Check for at least one lowercase letter\n",
        "    if not re.search(r'[a-z]', password):\n",
        "        return False\n",
        "\n",
        "    # Check for at least one digit\n",
        "    if not re.search(r'\\d', password):\n",
        "        return False\n",
        "\n",
        "    # If all conditions are met, the password is strong\n",
        "    return True\n",
        "\n",
        "password = \"mystrngpassword\"\n",
        "if is_strong_password(password):\n",
        "    print(\"The password is strong.\")\n",
        "else:\n",
        "    print(\"The password is not strong.\")"
      ],
      "cell_type": "code",
      "metadata": {
        "id": "hIfl20_OVRKZ",
        "colab": {
          "base_uri": "https://localhost:8080/"
        },
        "outputId": "78e48115-8a4f-4c95-b4ab-f0e6a847d125"
      },
      "execution_count": 6,
      "outputs": [
        {
          "output_type": "stream",
          "name": "stdout",
          "text": [
            "The password is not strong.\n"
          ]
        }
      ]
    }
  ],
  "metadata": {
    "colab": {
      "provenance": [],
      "authorship_tag": "ABX9TyMt0QXmDQHGmms6iM8JGQdn",
      "include_colab_link": true
    },
    "kernelspec": {
      "display_name": "Python 3",
      "name": "python3"
    },
    "language_info": {
      "name": "python"
    }
  },
  "nbformat": 4,
  "nbformat_minor": 0
}