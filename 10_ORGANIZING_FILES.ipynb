{
  "nbformat": 4,
  "nbformat_minor": 0,
  "metadata": {
    "colab": {
      "provenance": [],
      "authorship_tag": "ABX9TyMWmpuid3EIUuoHsQA6pi5z",
      "include_colab_link": true
    },
    "kernelspec": {
      "name": "python3",
      "display_name": "Python 3"
    },
    "language_info": {
      "name": "python"
    }
  },
  "cells": [
    {
      "cell_type": "markdown",
      "metadata": {
        "id": "view-in-github",
        "colab_type": "text"
      },
      "source": [
        "<a href=\"https://colab.research.google.com/github/kilos11/PYTHON-_AUTOMATION-/blob/main/10_ORGANIZING_FILES.ipynb\" target=\"_parent\"><img src=\"https://colab.research.google.com/assets/colab-badge.svg\" alt=\"Open In Colab\"/></a>"
      ]
    },
    {
      "cell_type": "code",
      "source": [
        "p = Path('C:/Users/Al/spam.txt')\n",
        "\n",
        "print(p.anchor)\n",
        "print(p.parent)\n",
        "print(p.name)\n",
        "print(p.stem)\n",
        "print(p.suffix)\n",
        "print(p.drive)"
      ],
      "metadata": {
        "colab": {
          "base_uri": "https://localhost:8080/"
        },
        "id": "WWUS4Wd9L0yc",
        "outputId": "e5db7892-3602-4e25-895f-88ef80e3d2e9"
      },
      "execution_count": null,
      "outputs": [
        {
          "output_type": "stream",
          "name": "stdout",
          "text": [
            "\n",
            "C:/Users/Al\n",
            "spam.txt\n",
            "spam\n",
            ".txt\n",
            "\n"
          ]
        }
      ]
    },
    {
      "cell_type": "markdown",
      "source": [
        "#**The shutil Module**#\n",
        "##*The shutil (or shell utilities) module has functions to let you copy, move, rename, and delete files in your Python programs. To use the shutil functions, you will first need to use import shutil.\n",
        "\n",
        "#**Copying Files and Folders**#\n",
        "##*The shutil module provides functions for copying files, as well as entire folders.\n",
        "\n",
        "##*Calling shutil.copy(source, destination) will copy the file at the path source to the folder at the path destination. (Both source and destination can be strings or Path objects.) If destination is a filename, it will be used as the new name of the copied file. This function returns a string or Path object of the copied file."
      ],
      "metadata": {
        "id": "sk6agfGCKR1O"
      }
    },
    {
      "cell_type": "code",
      "source": [
        "import os\n",
        "\n",
        "os.makedirs('C:\\\\delicious\\\\walnut\\\\waffles')\n",
        "\n",
        "#To make a directory from a Path object, call the mkdir() method.\n",
        "#For example, this code will create a spam folder under the home folder on my computer:\n",
        "from pathlib import Path\n",
        "\n",
        "Path(r'C:\\Users\\Al\\spam').mkdir()\n",
        "\n",
        "#Note that mkdir() can only make one directory at a time;\n",
        "#it won’t make several subdirectories at once like os.makedirs()."
      ],
      "metadata": {
        "id": "67K3spStMMo7"
      },
      "execution_count": null,
      "outputs": []
    },
    {
      "cell_type": "code",
      "execution_count": null,
      "metadata": {
        "id": "Wsmv6nvnKESO"
      },
      "outputs": [],
      "source": [
        "import shutil, os\n",
        "from pathlib import Path\n",
        "\n",
        "p = Path.home()\n",
        "shutil.copy(p / 'spam.txt', p / 'some_folder')\n",
        "shutil.copy(p / 'eggs.txt', p / 'some_folder/eggs2.txt')"
      ]
    },
    {
      "cell_type": "markdown",
      "source": [
        "##*The first shutil.copy() call copies the file at C:\\Users\\Al\\spam.txt to the folder C:\\Users\\Al\\some_folder. The return value is the path of the newly copied file. Note that since a folder was specified as the destination ➊, the original spam.txt filename is used for the new, copied file’s filename. The second shutil.copy() call ➋ also copies the file at C:\\Users\\Al\\eggs.txt to the folder C:\\Users\\Al\\some_folder but gives the copied file the name eggs2.txt.\n",
        "\n",
        "##*While shutil.copy() will copy a single file, shutil.copytree() will copy an entire folder and every folder and file contained in it. Calling shutil.copytree(source, destination) will copy the folder at the path source, along with all of its files and subfolders, to the folder at the path destination. The source and destination parameters are both strings. The function returns a string of the path of the copied folder."
      ],
      "metadata": {
        "id": "8mracXTRM1IU"
      }
    },
    {
      "cell_type": "code",
      "source": [
        "import shutil, os\n",
        "from pathlib import Path\n",
        "\n",
        "p = Path.home()\n",
        "shutil.copytree(p / 'spam', p / 'spam_backup')\n"
      ],
      "metadata": {
        "id": "xyw8EJYXNCcm"
      },
      "execution_count": null,
      "outputs": []
    },
    {
      "cell_type": "markdown",
      "source": [
        "##*The shutil.copytree() call creates a new folder named spam_backup with the same content as the original spam folder. You have now safely backed up your precious, precious spam."
      ],
      "metadata": {
        "id": "CvN8ooaHNXNt"
      }
    },
    {
      "cell_type": "markdown",
      "source": [
        "#**Moving and Renaming Files and Folders**#\n",
        "##*Calling shutil.move(source, destination) will move the file or folder at the path source to the path destination and will return a string of the absolute path of the new location.\n",
        "\n",
        "##*If destination points to a folder, the source file gets moved into destination and keeps its current filename."
      ],
      "metadata": {
        "id": "cPxhMLRUNiG8"
      }
    },
    {
      "cell_type": "code",
      "source": [
        "import shutil\n",
        "\n",
        "shutil.move('C:\\\\bacon.txt', 'C:\\\\eggs')"
      ],
      "metadata": {
        "id": "ZSE_whTpNv0o"
      },
      "execution_count": null,
      "outputs": []
    },
    {
      "cell_type": "markdown",
      "source": [
        "##*Assuming a folder named eggs already exists in the C:\\ directory, this shutil.move() call says, “Move C:\\bacon.txt into the folder C:\\eggs.”\n",
        "\n",
        "##*If there had been a bacon.txt file already in C:\\eggs, it would have been overwritten. Since it’s easy to accidentally overwrite files in this way, you should take some care when using move().\n",
        "\n",
        "##*The destination path can also specify a filename."
      ],
      "metadata": {
        "id": "ig5pGk6NN_Xf"
      }
    },
    {
      "cell_type": "markdown",
      "source": [
        "##*This line says, “Move C:\\bacon.txt into the folder C:\\eggs, and while you’re at it, rename that bacon.txt file to new_bacon.txt.”\n",
        "\n",
        "##*Both of the previous examples worked under the assumption that there was a folder eggs in the C:\\ directory. But if there is no eggs folder, then move() will rename bacon.txt to a file named eggs."
      ],
      "metadata": {
        "id": "YKOXNfegObYj"
      }
    },
    {
      "cell_type": "code",
      "source": [
        "shutil.move('C:\\\\bacon.txt', 'C:\\\\eggs')"
      ],
      "metadata": {
        "id": "GXS2Gfn0glG2"
      },
      "execution_count": null,
      "outputs": []
    },
    {
      "cell_type": "markdown",
      "source": [
        "##*Here, move() can’t find a folder named eggs in the C:\\ directory and so assumes that destination must be specifying a filename, not a folder. So the bacon.txt text file is renamed to eggs (a text file without the .txt file extension)—probably not what you wanted! This can be a tough-to-spot bug in your programs since the move() call can happily do something that might be quite different from what you were expecting. This is yet another reason to be careful when using move().\n",
        "\n",
        "##*Finally, the folders that make up the destination must already exist, or else Python will throw an exception."
      ],
      "metadata": {
        "id": "7NHpbI__gnHn"
      }
    },
    {
      "cell_type": "code",
      "source": [
        "shutil.move('spam.txt', 'c:\\\\does_not_exist\\\\eggs\\\\ham')"
      ],
      "metadata": {
        "id": "tF7_ON3ng87B"
      },
      "execution_count": null,
      "outputs": []
    },
    {
      "cell_type": "markdown",
      "source": [
        "#**Permanently Deleting Files and Folders**#\n",
        "##*You can delete a single file or a single empty folder with functions in the os module, whereas to delete a folder and all of its contents, you use the shutil module.\n",
        "\n",
        "##*Calling os.unlink(path) will delete the file at path.\n",
        "##*Calling os.rmdir(path) will delete the folder at path. This folder must be empty of any files or folders.\n",
        "##*Calling shutil.rmtree(path) will remove the folder at path, and all files and folders it contains will also be deleted.\n",
        "##*Be careful when using these functions in your programs! It’s often a good idea to first run your program with these calls commented out and with print() calls added to show the files that would be deleted."
      ],
      "metadata": {
        "id": "1DLZM0K0h0pn"
      }
    },
    {
      "cell_type": "code",
      "source": [
        "import os\n",
        "from pathlib import Path\n",
        "\n",
        "for filename in Path.home().glob('*.rxt'):\n",
        "    os.unlink(filename)"
      ],
      "metadata": {
        "id": "p3m49nzdiNOo"
      },
      "execution_count": null,
      "outputs": []
    },
    {
      "cell_type": "markdown",
      "source": [
        "##*If you had any important files ending with .rxt, they would have been accidentally, permanently deleted. Instead, you should have first run the program like this:"
      ],
      "metadata": {
        "id": "QvnUZG0mimvp"
      }
    },
    {
      "cell_type": "code",
      "source": [
        "import os\n",
        "from pathlib import Path\n",
        "\n",
        "for filename in Path.home().glob('*.rxt'):\n",
        "    #os.unlink(filename)\n",
        "    print(filename)"
      ],
      "metadata": {
        "id": "f5OmxIEpiqjm"
      },
      "execution_count": null,
      "outputs": []
    },
    {
      "cell_type": "markdown",
      "source": [
        "##*Now the os.unlink() call is commented, so Python ignores it. Instead, you will print the filename of the file that would have been deleted. Running this version of the program first will show you that you’ve accidentally told the program to delete .rxt files instead of .txt files.\n",
        "\n",
        "##*Once you are certain the program works as intended, delete the print(filename) line and uncomment the os.unlink(filename) line. Then run the program again to actually delete the files."
      ],
      "metadata": {
        "id": "KIKbZf1FjNXw"
      }
    },
    {
      "cell_type": "markdown",
      "source": [
        "##**Safe Deletes with the send2trash Module**#\n",
        "##*Since Python’s built-in shutil.rmtree() function irreversibly deletes files and folders, it can be dangerous to use. A much better way to delete files and folders is with the third-party send2trash module. You can install this module by running pip install --user send2trash from a Terminal window.\n",
        "\n",
        "##*Using send2trash is much safer than Python’s regular delete functions, because it will send folders and files to your computer’s trash or recycle bin instead of permanently deleting them. If a bug in your program deletes something with send2trash you didn’t intend to delete, you can later restore it from the recycle bin."
      ],
      "metadata": {
        "id": "xWgluUHbjmXf"
      }
    },
    {
      "cell_type": "code",
      "source": [
        "!pip install --user send2trash"
      ],
      "metadata": {
        "colab": {
          "base_uri": "https://localhost:8080/"
        },
        "id": "FjbNxoFIkAss",
        "outputId": "ab4258c1-4acd-43b7-c79f-3fe5bd6c26b2"
      },
      "execution_count": null,
      "outputs": [
        {
          "output_type": "stream",
          "name": "stdout",
          "text": [
            "Requirement already satisfied: send2trash in /usr/local/lib/python3.10/dist-packages (1.8.3)\n"
          ]
        }
      ]
    },
    {
      "cell_type": "code",
      "source": [
        "import send2trash\n",
        "\n",
        "baconFile = open('bacon.txt', 'a')   # creates the file\n",
        "baconFile.write('Bacon is not a vegetable.')\n",
        "\n",
        "baconFile.close()\n",
        "send2trash.send2trash('bacon.txt')"
      ],
      "metadata": {
        "id": "ywyzpwLMkNF0"
      },
      "execution_count": null,
      "outputs": []
    },
    {
      "cell_type": "markdown",
      "source": [
        "##*In general, you should always use the send2trash.send2trash() function to delete files and folders. But while sending files to the recycle bin lets you recover them later, it will not free up disk space like permanently deleting them does. If you want your program to free up disk space, use the os and shutil functions for deleting files and folders. Note that the send2trash() function can only send files to the recycle bin; it cannot pull files out of it."
      ],
      "metadata": {
        "id": "PTcsCIt8kwgk"
      }
    },
    {
      "cell_type": "markdown",
      "source": [
        "#**Walking a Directory Tree**#\n",
        "##*Say you want to rename every file in some folder and also every file in every subfolder of that folder. That is, you want to walk through the directory tree, touching each file as you go. Writing a program to do this could get tricky; fortunately, Python provides a function to handle this process for you."
      ],
      "metadata": {
        "id": "FQWXMmXRlATi"
      }
    },
    {
      "cell_type": "code",
      "source": [
        "import os\n",
        "\n",
        "for folderName, subfolders, filenames in os.walk('C:\\\\delicious'):\n",
        "    print('The current folder is ' + folderName)\n",
        "\n",
        "    for subfolder in subfolders:\n",
        "        print('SUBFOLDER OF ' + folderName + ': ' + subfolder)\n",
        "\n",
        "    for filename in filenames:\n",
        "        print('FILE INSIDE ' + folderName + ': '+ filename)\n",
        "\n",
        "    print('')"
      ],
      "metadata": {
        "id": "p2peJQHklIPX"
      },
      "execution_count": null,
      "outputs": []
    },
    {
      "cell_type": "markdown",
      "source": [
        "##*The os.walk() function is passed a single string value: the path of a folder. You can use os.walk() in a for loop statement to walk a directory tree, much like how you can use the range() function to walk over a range of numbers. Unlike range(), the os.walk() function will return three values on each iteration through the loop:\n",
        "\n",
        "##*A string of the current folder’s name\n",
        "##*A list of strings of the folders in the current folder\n",
        "##*A list of strings of the files in the current folder\n",
        "##*By current folder, I mean the folder for the current iteration of the for loop. The current working directory of the program is not changed by os.walk().)\n",
        "\n",
        "##*Just like you can choose the variable name i in the code for i in range(10):, you can also choose the variable names for the three values listed earlier. I usually use the names foldername, subfolders, and filenames.\n",
        "\n",
        "##*Since os.walk() returns lists of strings for the subfolder and filename variables, you can use these lists in their own for loops. Replace the print() function calls with your own custom code. (Or if you don’t need one or both of them, remove the for loops.)"
      ],
      "metadata": {
        "id": "zLBHfkFemcK0"
      }
    },
    {
      "cell_type": "markdown",
      "source": [
        "#**Compressing Files with the zipfile Module**#\n",
        "##*You may be familiar with ZIP files (with the .zip file extension), which can hold the compressed contents of many other files. Compressing a file reduces its size, which is useful when transferring it over the internet. And since a ZIP file can also contain multiple files and subfolders, it’s a handy way to package several files into one. This single file, called an archive file, can then be, say, attached to an email.\n",
        "\n",
        "##*Your Python programs can create and open (or extract) ZIP files using functions in the zipfile module."
      ],
      "metadata": {
        "id": "H49Ys9bWnx-D"
      }
    },
    {
      "cell_type": "markdown",
      "source": [
        "#**Reading ZIP Files**#\n",
        "##*To read the contents of a ZIP file, first you must create a ZipFile object (note the capital letters Z and F). ZipFile objects are conceptually similar to the File objects you saw returned by the open() function in the previous chapter: they are values through which the program interacts with the file. To create a ZipFile object, call the zipfile.ZipFile() function, passing it a string of the .ZIP file’s filename. Note that zipfile is the name of the Python module, and ZipFile() is the name of the function."
      ],
      "metadata": {
        "id": "zbbzsTdv3leT"
      }
    },
    {
      "cell_type": "code",
      "source": [
        "import zipfile, os\n",
        "from pathlib import Path\n",
        "\n",
        "p = Path.home()\n",
        "exampleZip = zipfile.ZipFile(p / 'example.zip')\n",
        "exampleZip.namelist()\n",
        "spamInfo = exampleZip.getinfo('spam.txt')\n",
        "spamInfo.file_size\n",
        "spamInfo.compress_size\n",
        "f'Compressed file is {round(spamInfo.file_size / spamInfo.compress_size, 2)}x smaller!'\n",
        "exampleZip.close()\n",
        "\n"
      ],
      "metadata": {
        "id": "774-cP64339n"
      },
      "execution_count": null,
      "outputs": []
    },
    {
      "cell_type": "markdown",
      "source": [
        "#**Extracting from ZIP Files**#\n",
        "##*The extractall() method for ZipFile objects extracts all the files and folders from a ZIP file into the current working directory."
      ],
      "metadata": {
        "id": "b0io6oyx5Iin"
      }
    },
    {
      "cell_type": "code",
      "source": [
        "import zipfile, os\n",
        "from pathlib import Path\n",
        "\n",
        "p = Path.home()\n",
        "exampleZip = zipfile.ZipFile(p / 'example.zip')\n",
        "exampleZip.extractall()\n",
        "exampleZip.close()\n",
        "\n"
      ],
      "metadata": {
        "id": "z-abq1pA5RgN"
      },
      "execution_count": null,
      "outputs": []
    },
    {
      "cell_type": "markdown",
      "source": [
        "##*After running this code, the contents of example.zip will be extracted to C:\\. Optionally, you can pass a folder name to extractall() to have it extract the files into a folder other than the current working directory. If the folder passed to the extractall() method does not exist, it will be created. For instance, if you replaced the call at ➊ with exampleZip.extractall('C:\\\\delicious'), the code would extract the files from example.zip into a newly created C:\\delicious folder.\n",
        "\n",
        "##*The extract() method for ZipFile objects will extract a single file from the ZIP file.\n",
        "\n",
        "##*The string you pass to extract() must match one of the strings in the list returned by namelist(). Optionally, you can pass a second argument to extract() to extract the file into a folder other than the current working directory. If this second argument is a folder that doesn’t yet exist, Python will create the folder. The value that extract() returns is the absolute path to which the file was extracted."
      ],
      "metadata": {
        "id": "8lZNbk5s53UG"
      }
    },
    {
      "cell_type": "code",
      "source": [
        "exampleZip.extract('spam.txt')\n",
        "exampleZip.extract('spam.txt', 'C:\\\\some\\\\new\\\\folders')\n",
        "exampleZip.close()\n"
      ],
      "metadata": {
        "id": "4oToDzK46Dzl"
      },
      "execution_count": null,
      "outputs": []
    },
    {
      "cell_type": "markdown",
      "source": [
        "#**Creating and Adding to ZIP Files**#\n",
        "##*To create your own compressed ZIP files, you must open the ZipFile object in write mode by passing 'w' as the second argument. (This is similar to opening a text file in write mode by passing 'w' to the open() function.)\n",
        "\n",
        "##*When you pass a path to the write() method of a ZipFile object, Python will compress the file at that path and add it into the ZIP file. The write() method’s first argument is a string of the filename to add. The second argument is the compression type parameter, which tells the computer what algorithm it should use to compress the files; you can always just set this value to zipfile.ZIP_DEFLATED. (This specifies the deflate compression algorithm, which works well on all types of data.)"
      ],
      "metadata": {
        "id": "m2BIKuk97J9x"
      }
    },
    {
      "cell_type": "code",
      "source": [
        "import zipfile\n",
        "\n",
        "newZip = zipfile.ZipFile('new.zip', 'w')\n",
        "newZip.write('spam.txt', compress_type=zipfile.ZIP_DEFLATED)\n",
        "newZip.close()\n"
      ],
      "metadata": {
        "id": "qfZlZ7kO7akm"
      },
      "execution_count": null,
      "outputs": []
    },
    {
      "cell_type": "markdown",
      "source": [
        "##*This code will create a new ZIP file named new.zip that has the compressed contents of spam.txt.\n",
        "\n",
        "##*Keep in mind that, just as with writing to files, write mode will erase all existing contents of a ZIP file. If you want to simply add files to an existing ZIP file, pass 'a' as the second argument to zipfile.ZipFile() to open the ZIP file in append mode."
      ],
      "metadata": {
        "id": "4FgdTDdI7_3u"
      }
    },
    {
      "cell_type": "markdown",
      "source": [
        "#**Project: Renaming Files with American-Style Dates to European-Style Dates**#\n",
        "##*Say your boss emails you thousands of files with American-style dates (MM-DD-YYYY) in their names and needs them renamed to European-style dates (DD-MM-YYYY). This boring task could take all day to do by hand! Let’s write a program to do it instead.\n",
        "\n",
        "Here’s what the program does:\n",
        "\n",
        "##*It searches all the filenames in the current working directory for American-style dates.\n",
        "##*When one is found, it renames the file with the month and day swapped to make it European-style.\n",
        "This means the code will need to do the following:\n",
        "\n",
        "##*Create a regex that can identify the text pattern of American-style dates.\n",
        "##*Call os.listdir() to find all the files in the working directory.\n",
        "##*Loop over each filename, using the regex to check whether it has a date.\n",
        "##*If it has a date, rename the file with shutil.move().\n"
      ],
      "metadata": {
        "id": "sZFKioRn89Ag"
      }
    },
    {
      "cell_type": "markdown",
      "source": [
        "#**Step 1: Create a Regex for American-Style Dates**#\n",
        "##*The first part of the program will need to import the necessary modules and create a regex that can identify MM-DD-YYYY dates. The to-do comments will remind you what’s left to write in this program. Typing them as TODO makes them easy to find using Mu editor’s CTRL-F find feature. Make your code look like the following:"
      ],
      "metadata": {
        "id": "oJLTthWu9gp4"
      }
    },
    {
      "cell_type": "code",
      "source": [
        "#! python3\n",
        "# renameDates.py - Renames filenames with American MM-DD-YYYY date format\n",
        "# to European DD-MM-YYYY.\n",
        "import shutil, os, re\n",
        "\n",
        "# Create a regex that matches files with the American date format.\n",
        "datePattern = re.compile(r\"\"\"^(.*?) # all text before the date\n",
        "       ((0|1)?\\d)-                     # one or two digits for the month\n",
        "              ((0|1|2|3)?\\d)-                 # one or two digits for the day\n",
        "                     ((19|20)\\d\\d)                   # four digits for the year\n",
        "                            (.*?)$                          # all text after the date\n",
        "                                   \"\"\", re.VERBOSE)"
      ],
      "metadata": {
        "id": "akrh9Yy-9t1U"
      },
      "execution_count": null,
      "outputs": []
    },
    {
      "cell_type": "markdown",
      "source": [
        "##*From this chapter, you know the shutil.move() function can be used to rename files: its arguments are the name of the file to rename and the new filename. Because this function exists in the shutil module, you must import that module ➊.\n",
        "\n",
        "##*But before renaming the files, you need to identify which files you want to rename. Filenames with dates such as spam4-4-1984.txt and 01-03-2014eggs.zip should be renamed, while filenames without dates such as littlebrother.epub can be ignored.\n",
        "\n",
        "##*You can use a regular expression to identify this pattern. After importing the re module at the top, call re.compile() to create a Regex object ➋. Passing re.VERBOSE for the second argument ➌ will allow whitespace and comments in the regex string to make it more readable.\n",
        "\n",
        "##*The regular expression string begins with ^(.*?) to match any text at the beginning of the filename that might come before the date. The ((0|1)?\\d) group matches the month. The first digit can be either 0 or 1, so the regex matches 12 for December but also 02 for February. This digit is also optional so that the month can be 04 or 4 for April. The group for the day is ((0|1|2|3)?\\d) and follows similar logic; 3, 03, and 31 are all valid numbers for days. (Yes, this regex will accept some invalid dates such as 4-31-2014, 2-29-2013, and 0-15-2014. Dates have a lot of thorny special cases that can be easy to miss. But for simplicity, the regex in this program works well enough.)\n",
        "\n",
        "##*While 1885 is a valid year, you can just look for years in the 20th or 21st century. This will keep your program from accidentally matching nondate filenames with a date-like format, such as 10-10-1000.txt.\n",
        "\n",
        "##*The (.*?)$ part of the regex will match any text that comes after the date."
      ],
      "metadata": {
        "id": "undoBJdk-kcQ"
      }
    },
    {
      "cell_type": "markdown",
      "source": [
        "#**Step 2: Identify the Date Parts from the Filenames**#\n",
        "##*Next, the program will have to loop over the list of filename strings returned from os.listdir() and match them against the regex. Any files that do not have a date in them should be skipped. For filenames that have a date, the matched text will be stored in several variables."
      ],
      "metadata": {
        "id": "FqhEiaHV_Ynn"
      }
    },
    {
      "cell_type": "code",
      "source": [
        "# Loop over the files in the working directory.\n",
        "for amerFilename in os.listdir('.'):\n",
        "    mo = datePattern.search(amerFilename)"
      ],
      "metadata": {
        "id": "YEA4rWfn_l5g"
      },
      "execution_count": null,
      "outputs": []
    }
  ]
}