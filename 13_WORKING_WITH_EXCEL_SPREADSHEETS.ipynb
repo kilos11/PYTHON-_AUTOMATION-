{
  "cells": [
    {
      "cell_type": "markdown",
      "metadata": {
        "id": "view-in-github",
        "colab_type": "text"
      },
      "source": [
        "<a href=\"https://colab.research.google.com/github/kilos11/PYTHON-_AUTOMATION-/blob/main/13_WORKING_WITH_EXCEL_SPREADSHEETS.ipynb\" target=\"_parent\"><img src=\"https://colab.research.google.com/assets/colab-badge.svg\" alt=\"Open In Colab\"/></a>"
      ]
    },
    {
      "cell_type": "code",
      "execution_count": null,
      "metadata": {
        "id": "Wjq2x5eFlKYY"
      },
      "outputs": [],
      "source": [
        "!pip install --user -U openpyxl==2.6.2"
      ]
    },
    {
      "cell_type": "code",
      "execution_count": null,
      "metadata": {
        "id": "IiwKCvVDlkwG"
      },
      "outputs": [],
      "source": [
        "import openpyxl"
      ]
    },
    {
      "cell_type": "markdown",
      "metadata": {
        "id": "lz_VsJIAXuJx"
      },
      "source": [
        "#**Opening Excel Documents with OpenPyXL**#\n",
        "##**Once you’ve imported the openpyxl module, you’ll be able to use the openpyxl.load_workbook() function."
      ]
    },
    {
      "cell_type": "code",
      "execution_count": null,
      "metadata": {
        "colab": {
          "base_uri": "https://localhost:8080/",
          "height": 121
        },
        "id": "n6yYngAtX8Kk",
        "outputId": "1d2ddd86-d25e-4d24-c457-02cfcadbf6e1"
      },
      "outputs": [
        {
          "data": {
            "text/html": [
              "<div style=\"max-width:800px; border: 1px solid var(--colab-border-color);\"><style>\n",
              "      pre.function-repr-contents {\n",
              "        overflow-x: auto;\n",
              "        padding: 8px 12px;\n",
              "        max-height: 500px;\n",
              "      }\n",
              "\n",
              "      pre.function-repr-contents.function-repr-contents-collapsed {\n",
              "        cursor: pointer;\n",
              "        max-height: 100px;\n",
              "      }\n",
              "    </style>\n",
              "    <pre style=\"white-space: initial; background:\n",
              "         var(--colab-secondary-surface-color); padding: 8px 12px;\n",
              "         border-bottom: 1px solid var(--colab-border-color);\"><b>openpyxl.workbook.workbook.Workbook</b><br/>def __init__(write_only=False, iso_dates=False)</pre><pre class=\"function-repr-contents function-repr-contents-collapsed\" style=\"\"><a class=\"filepath\" style=\"display:none\" href=\"#\">/usr/local/lib/python3.10/dist-packages/openpyxl/workbook/workbook.py</a>Workbook is the container for all other parts of the document.</pre>\n",
              "      <script>\n",
              "      if (google.colab.kernel.accessAllowed && google.colab.files && google.colab.files.view) {\n",
              "        for (const element of document.querySelectorAll('.filepath')) {\n",
              "          element.style.display = 'block'\n",
              "          element.onclick = (event) => {\n",
              "            event.preventDefault();\n",
              "            event.stopPropagation();\n",
              "            google.colab.files.view(element.textContent, 51);\n",
              "          };\n",
              "        }\n",
              "      }\n",
              "      for (const element of document.querySelectorAll('.function-repr-contents')) {\n",
              "        element.onclick = (event) => {\n",
              "          event.preventDefault();\n",
              "          event.stopPropagation();\n",
              "          element.classList.toggle('function-repr-contents-collapsed');\n",
              "        };\n",
              "      }\n",
              "      </script>\n",
              "      </div>"
            ],
            "text/plain": [
              "openpyxl.workbook.workbook.Workbook"
            ]
          },
          "execution_count": 1,
          "metadata": {},
          "output_type": "execute_result"
        }
      ],
      "source": [
        "import openpyxl\n",
        "\n",
        "wb = openpyxl.load_workbook('/content/drive/MyDrive/example.xlsx')\n",
        "type(wb)"
      ]
    },
    {
      "cell_type": "markdown",
      "metadata": {
        "id": "zUbWHB45Y50y"
      },
      "source": [
        "##**The openpyxl.load_workbook() function takes in the filename and returns a value of the workbook data type. This Workbook object represents the Excel file, a bit like how a File object represents an opened text file.\n",
        "\n",
        "##**Remember that example.xlsx needs to be in the current working directory in order for you to work with it. You can find out what the current working directory is by importing os and using os.getcwd(), and you can change the current working directory using os.chdir()."
      ]
    },
    {
      "cell_type": "markdown",
      "metadata": {
        "id": "hiant72nZRfK"
      },
      "source": [
        "#**Getting Sheets from the Workbook**#\n",
        "##**You can get a list of all the sheet names in the workbook by accessing the sheetnames attribute.\n",
        "##**Each sheet is represented by a Worksheet object, which you can obtain by using the square brackets with the sheet name string like a dictionary key. Finally, you can use the active attribute of a Workbook object to get the workbook’s active sheet. The active sheet is the sheet that’s on top when the workbook is opened in Excel. Once you have the Worksheet object, you can get its name from the title attribute."
      ]
    },
    {
      "cell_type": "code",
      "execution_count": null,
      "metadata": {
        "colab": {
          "base_uri": "https://localhost:8080/"
        },
        "id": "2YJyy7ctZm6n",
        "outputId": "bc15de01-14c8-4652-cf1c-73351e540911"
      },
      "outputs": [
        {
          "name": "stdout",
          "output_type": "stream",
          "text": [
            "['Sheet1', 'Sheet2', 'Sheet3']\n",
            "<Worksheet \"Sheet3\">\n",
            "<Worksheet \"Sheet1\">\n"
          ]
        }
      ],
      "source": [
        "import openpyxl\n",
        "\n",
        "wb = openpyxl.load_workbook('/content/drive/MyDrive/example.xlsx')\n",
        "print(wb.sheetnames)\n",
        "\n",
        "sheet = wb['Sheet3'] # Get a sheet from the workbook.\n",
        "print(sheet)\n",
        "type(sheet)\n",
        "sheet.title # Get the sheet's title as a string.\n",
        "\n",
        "anotherSheet = wb.active # Get the active sheet.\n",
        "print(anotherSheet)\n",
        "\n"
      ]
    },
    {
      "cell_type": "markdown",
      "metadata": {
        "id": "P1v2zqptcCed"
      },
      "source": [
        "#**Getting Cells from the Sheets**#\n",
        "##*Once you have a Worksheet object, you can access a Cell object by its name."
      ]
    },
    {
      "cell_type": "code",
      "execution_count": null,
      "metadata": {
        "colab": {
          "base_uri": "https://localhost:8080/"
        },
        "id": "B3nkpRsMcMcG",
        "outputId": "e3a42944-e18b-4eff-e39e-9b74085d6189"
      },
      "outputs": [
        {
          "name": "stdout",
          "output_type": "stream",
          "text": [
            "<Cell 'Sheet1'.A1>\n",
            "2015-04-05 13:34:02\n"
          ]
        }
      ],
      "source": [
        "import openpyxl\n",
        "\n",
        "wb = openpyxl.load_workbook('/content/drive/MyDrive/example.xlsx')\n",
        "sheet = wb['Sheet1'] # Get a sheet from the workbook.\n",
        "print(sheet['A1']) # Get a cell from the sheet.\n",
        "print(sheet['A1'].value) # Get the value from the cell.\n"
      ]
    },
    {
      "cell_type": "markdown",
      "metadata": {
        "id": "EQP8alI4pT-p"
      },
      "source": [
        "##*The Cell object has a value attribute that contains, unsurprisingly, the value stored in that cell. Cell objects also have row, column, and coordinate attributes that provide location information for the cell.\n",
        "\n",
        "##*Here, accessing the value attribute of our Cell object for cell B1 gives us the string 'Apples'. The row attribute gives us the integer 1, the column attribute gives us 'B', and the coordinate attribute gives us 'B1'.\n",
        "\n",
        "##*OpenPyXL will automatically interpret the dates in column A and return them as datetime values rather than strings. The datetime data type is explained further in Chapter 17.\n",
        "\n",
        "##*Specifying a column by letter can be tricky to program, especially because after column Z, the columns start by using two letters: AA, AB, AC, and so on. As an alternative, you can also get a cell using the sheet’s cell() method and passing integers for its row and column keyword arguments. The first row or column integer is 1, not 0."
      ]
    },
    {
      "cell_type": "code",
      "execution_count": null,
      "metadata": {
        "colab": {
          "base_uri": "https://localhost:8080/"
        },
        "id": "R8D7fYjgph9e",
        "outputId": "2df1e31b-af2a-4bc0-c3e1-09005b71c582"
      },
      "outputs": [
        {
          "name": "stdout",
          "output_type": "stream",
          "text": [
            "<Cell 'Sheet1'.B1>\n",
            "Apples\n",
            "1 Apples\n",
            "3 Pears\n",
            "5 Apples\n",
            "7 Strawberries\n"
          ]
        }
      ],
      "source": [
        "print(sheet.cell(row=1, column=2))\n",
        "print(sheet.cell(row=1, column=2).value)\n",
        "\n",
        "for i in range(1, 8, 2):\n",
        "    print(i, sheet.cell(row=i, column=2).value) # Go through every other row:"
      ]
    },
    {
      "cell_type": "markdown",
      "metadata": {
        "id": "i-47UtmmqeLE"
      },
      "source": [
        "##*As you can see, using the sheet’s cell() method and passing it row=1 and column=2 gets you a Cell object for cell B1, just like specifying sheet['B1'] did. Then, using the cell() method and its keyword arguments, you can write a for loop to print the values of a series of cells.\n",
        "\n",
        "##*Say you want to go down column B and print the value in every cell with an odd row number. By passing 2 for the range() function’s “step” parameter, you can get cells from every second row (in this case, all the odd-numbered rows). The for loop’s i variable is passed for the row keyword argument to the cell() method, while 2 is always passed for the column keyword argument. Note that the integer 2, not the string 'B', is passed.\n",
        "\n",
        "##*You can determine the size of the sheet with the Worksheet object’s max_row and max_column attributes."
      ]
    },
    {
      "cell_type": "code",
      "execution_count": null,
      "metadata": {
        "colab": {
          "base_uri": "https://localhost:8080/"
        },
        "id": "axz9Zj99qq2Y",
        "outputId": "3793673a-78ff-4726-99e7-6fd02db7111b"
      },
      "outputs": [
        {
          "name": "stdout",
          "output_type": "stream",
          "text": [
            "7\n",
            "3\n"
          ]
        }
      ],
      "source": [
        "import openpyxl\n",
        "\n",
        "wb = openpyxl.load_workbook('/content/drive/MyDrive/example.xlsx')\n",
        "sheet = wb['Sheet1']\n",
        "print(sheet.max_row) # Get the highest row number.\n",
        "print(sheet.max_column) # Get the highest column number.\n"
      ]
    },
    {
      "cell_type": "markdown",
      "metadata": {
        "id": "1QKSq0BYr1pN"
      },
      "source": [
        "##*Converting Between Column Letters and Numbers\n",
        "##*To convert from letters to numbers, call the **openpyxl.utils.column_index_from_string()** function.\n",
        "##*To convert from numbers to letters, call the **openpyxl.utils.get_column_letter()** function"
      ]
    },
    {
      "cell_type": "code",
      "execution_count": null,
      "metadata": {
        "colab": {
          "base_uri": "https://localhost:8080/"
        },
        "id": "O5iB7SuisY_6",
        "outputId": "de588c6c-afa3-46db-a38d-5d3f2ee499c0"
      },
      "outputs": [
        {
          "name": "stdout",
          "output_type": "stream",
          "text": [
            "A\n",
            "B\n",
            "AA\n",
            "AHP\n",
            "C\n",
            "1\n",
            "27\n"
          ]
        }
      ],
      "source": [
        "import openpyxl\n",
        "from openpyxl.utils import get_column_letter, column_index_from_string\n",
        "\n",
        "print(get_column_letter(1)) # Translate column 1 to a letter.\n",
        "print(get_column_letter(2))\n",
        "print(get_column_letter(27))\n",
        "print(get_column_letter(900))\n",
        "\n",
        "wb = openpyxl.load_workbook('/content/drive/MyDrive/example.xlsx')\n",
        "sheet = wb['Sheet1']\n",
        "print(get_column_letter(sheet.max_column))\n",
        "print(column_index_from_string('A')) # Get A's number.\n",
        "print(column_index_from_string('AA'))\n"
      ]
    },
    {
      "cell_type": "markdown",
      "metadata": {
        "id": "yA8oRisSugUD"
      },
      "source": [
        "##*After you import these two functions from the openpyxl.utils module, you can call get_column_letter() and pass it an integer like 27 to figure out what the letter name of the 27th column is. The function column_index_string() does the reverse: you pass it the letter name of a column, and it tells you what number that column is. You don’t need to have a workbook loaded to use these functions. If you want, you can load a workbook, get a Worksheet object, and use a Worksheet attribute like max_column to get an integer. Then, you can pass that integer to get_column_letter()."
      ]
    },
    {
      "cell_type": "markdown",
      "metadata": {
        "id": "d-8G3zg9u3wq"
      },
      "source": [
        "#**Getting Rows and Columns from the Sheets**#\n",
        "##*You can slice Worksheet objects to get all the Cell objects in a row, column, or rectangular area of the spreadsheet. Then you can loop over all the cells in the slice."
      ]
    },
    {
      "cell_type": "code",
      "execution_count": null,
      "metadata": {
        "colab": {
          "base_uri": "https://localhost:8080/"
        },
        "id": "MoAOtI2byFGU",
        "outputId": "ef6d7214-1964-4b8d-a88a-8af6db4335ae"
      },
      "outputs": [
        {
          "name": "stdout",
          "output_type": "stream",
          "text": [
            "A1 2015-04-05 13:34:02\n",
            "B1 Apples\n",
            "C1 73\n",
            "--- END OF ROW ---\n",
            "A2 2015-04-05 03:41:23\n",
            "B2 Cherries\n",
            "C2 85\n",
            "--- END OF ROW ---\n",
            "A3 2015-04-06 12:46:51\n",
            "B3 Pears\n",
            "C3 14\n",
            "--- END OF ROW ---\n"
          ]
        }
      ],
      "source": [
        "import openpyxl\n",
        "\n",
        "# Import the openpyxl library for working with Excel files\n",
        "\n",
        "wb = openpyxl.load_workbook('/content/drive/MyDrive/example.xlsx')\n",
        "# Load the Excel workbook located at the specified file path\n",
        "\n",
        "sheet = wb['Sheet1']\n",
        "# Get the specific worksheet named 'Sheet1' from the workbook\n",
        "\n",
        "tuple(sheet['A1':'C3'])  # Get all cells from A1 to C3.\n",
        "\n",
        "for rowOfCellObjects in sheet['A1':'C3']:\n",
        "    # Iterate through each row of cell objects within the specified range\n",
        "\n",
        "        for cellObj in rowOfCellObjects:\n",
        "                # Iterate through each individual cell object within the row\n",
        "\n",
        "                print(cellObj.coordinate, cellObj.value)\n",
        "                                # Print the cell's coordinate (e.g., A1, B2) and its corresponding value\n",
        "\n",
        "        print('--- END OF ROW ---')\n",
        "                                        # Print a separator to indicate the end of a row"
      ]
    },
    {
      "cell_type": "markdown",
      "metadata": {
        "id": "YtnZo4rsz7_B"
      },
      "source": [
        "##*Here, we specify that we want the Cell objects in the rectangular area from A1 to C3, and we get a Generator object containing the Cell objects in that area. To help us visualize this Generator object, we can use tuple() on it to display its Cell objects in a tuple.\n",
        "\n",
        "##*This tuple contains three tuples: one for each row, from the top of the desired area to the bottom. Each of these three inner tuples contains the Cell objects in one row of our desired area, from the leftmost cell to the right. So overall, our slice of the sheet contains all the Cell objects in the area from A1 to C3, starting from the top-left cell and ending with the bottom-right cell.\n",
        "\n",
        "##*To print the values of each cell in the area, we use two for loops. The outer for loop goes over each row in the slice ➊. Then, for each row, the nested for loop goes through each cell in that row ➋.\n",
        "\n",
        "##*To access the values of cells in a particular row or column, you can also use a Worksheet object’s rows and columns attribute. These attributes must be converted to lists with the list() function before you can use the square brackets and an index with them."
      ]
    },
    {
      "cell_type": "code",
      "execution_count": null,
      "metadata": {
        "colab": {
          "base_uri": "https://localhost:8080/"
        },
        "id": "TivGDDJb0ed4",
        "outputId": "1dd2d33a-6c83-4d07-e598-0dc1947d31b1"
      },
      "outputs": [
        {
          "name": "stdout",
          "output_type": "stream",
          "text": [
            "Apples\n",
            "Cherries\n",
            "Pears\n",
            "Oranges\n",
            "Apples\n",
            "Bananas\n",
            "Strawberries\n"
          ]
        }
      ],
      "source": [
        "import openpyxl\n",
        "\n",
        "wb = openpyxl.load_workbook('/content/drive/MyDrive/example.xlsx')\n",
        "sheet = wb.active\n",
        "list(sheet.columns)[1] # Get second column's cells.\n",
        "for cellObj in list(sheet.columns)[1]:\n",
        "    print(cellObj.value)"
      ]
    },
    {
      "cell_type": "markdown",
      "metadata": {
        "id": "XSuZZRUm2wjY"
      },
      "source": [
        "#**Workbooks, Sheets, Cells**#\n",
        "##*As a quick review, here’s a rundown of all the functions, methods, and data types involved in reading a cell out of a spreadsheet file:\n",
        "\n",
        "##*Import the openpyxl module.*\n",
        "##*Call the openpyxl.load_workbook() function.*\n",
        "##*Get a Workbook object.*\n",
        "##*Use the active or sheetnames attributes.*\n",
        "##*Get a Worksheet object.*\n",
        "##*Use indexing or the cell() sheet method with row and column keyword arguments.*\n",
        "##*Get a Cell object.*\n",
        "##*Read the Cell object’s value attribute.*"
      ]
    },
    {
      "cell_type": "markdown",
      "metadata": {
        "id": "WUiW24Zz4OOP"
      },
      "source": [
        "#**Project: Reading Data from a Spreadsheet**\n",
        "##*Say you have a spreadsheet of data from the 2010 US Census and you have the boring task of going through its thousands of rows to count both the total population and the number of census tracts for each county. (A census tract is simply a geographic area defined for the purposes of the census.) Each row represents a single census tract. We’ll name the spreadsheet file censuspopdata.xlsx,"
      ]
    },
    {
      "cell_type": "markdown",
      "metadata": {
        "id": "zUof0vli7f1x"
      },
      "source": [
        "#**Setting the Font Style of Cells**#\n",
        "##*Styling certain cells, rows, or columns can help you emphasize important areas in your spreadsheet. In the produce spreadsheet, for example, your program could apply bold text to the potato, garlic, and parsnip rows. Or perhaps you want to italicize every row with a cost per pound greater than $5. Styling parts of a large spreadsheet by hand would be tedious, but your programs can do it instantly.\n",
        "\n",
        "##*To customize font styles in cells, important, import the Font() function from the openpyxl.styles module.\n",
        "\n",
        "##*from openpyxl.styles import Font*\n",
        "\n",
        "##*This allows you to type Font() instead of openpyxl.styles.Font()."
      ]
    },
    {
      "cell_type": "code",
      "execution_count": null,
      "metadata": {
        "id": "hLaif8kl9MdV"
      },
      "outputs": [],
      "source": [
        "import openpyxl\n",
        "from openpyxl.styles import Font\n",
        "\n",
        "wb = openpyxl.Workbook()\n",
        "sheet = wb['Sheet']\n",
        "\n",
        "italic24Font = Font(size=24, italic=True) # Create a font.\n",
        "sheet['A1'].font = italic24Font # Apply the font to A1.\n",
        "sheet['A1'] = 'Hello, world!'\n",
        "wb.save('styles.xlsx')\n",
        "\n",
        "\n",
        "\n"
      ]
    },
    {
      "cell_type": "markdown",
      "metadata": {
        "id": "jyELXyy8M3Dg"
      },
      "source": [
        "#**Formulas**#\n",
        "#*Excel formulas, which begin with an equal sign, can configure cells to contain values calculated from other cells. In this section, you’ll use the openpyxl module to programmatically add formulas to cells, just like any normal value.\n",
        "#This will store =SUM(B1:B8) as the value in cell B9. This sets the B9 cell to a formula that calculates the sum of values in cells B1 to B8."
      ]
    },
    {
      "cell_type": "code",
      "execution_count": null,
      "metadata": {
        "id": "PxbOr_4jNIEk"
      },
      "outputs": [],
      "source": [
        "sheet['B9'] = '=SUM(B1:B8)'"
      ]
    },
    {
      "cell_type": "markdown",
      "metadata": {
        "id": "iuziMjczOJAc"
      },
      "source": [
        "#*An Excel formula is set just like any other text value in a cell."
      ]
    },
    {
      "cell_type": "code",
      "execution_count": null,
      "metadata": {
        "id": "7gJAHMOQOMVW"
      },
      "outputs": [],
      "source": [
        "import openpyxl\n",
        "\n",
        "wb = openpyxl.Workbook()\n",
        "sheet = wb.active\n",
        "sheet['A1'] = 200\n",
        "sheet['A2'] = 300\n",
        "sheet['A3'] = '=SUM(A1:A2)' # Set the formula.\n",
        "wb.save('writeFormula.xlsx')"
      ]
    },
    {
      "cell_type": "markdown",
      "source": [
        "#**Adjusting Rows and Columns**#\n",
        "#In Excel, adjusting the sizes of rows and columns is as easy as clicking and dragging the edges of a row or column header. But if you need to set a row or column’s size based on its cells’ contents or if you want to set sizes in a large number of spreadsheet files, it will be much quicker to write a Python program to do it.\n",
        "\n",
        "#Rows and columns can also be hidden entirely from view. Or they can be “frozen” in place so that they are always visible on the screen and appear on every page when the spreadsheet is printed (which is handy for headers)."
      ],
      "metadata": {
        "id": "bB-JON_8P5Xl"
      }
    }
  ],
  "metadata": {
    "colab": {
      "provenance": [],
      "mount_file_id": "1seE44N8My5yPzjLcIbIidhR5wX0ynDRQ",
      "authorship_tag": "ABX9TyNo+VQ5XM0edhkFPsUgmGC6",
      "include_colab_link": true
    },
    "kernelspec": {
      "display_name": "Python 3",
      "name": "python3"
    },
    "language_info": {
      "name": "python"
    }
  },
  "nbformat": 4,
  "nbformat_minor": 0
}