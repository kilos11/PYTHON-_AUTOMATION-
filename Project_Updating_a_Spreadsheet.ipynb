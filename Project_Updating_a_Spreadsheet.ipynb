{
  "cells": [
    {
      "cell_type": "markdown",
      "metadata": {
        "id": "view-in-github",
        "colab_type": "text"
      },
      "source": [
        "<a href=\"https://colab.research.google.com/github/kilos11/PYTHON-_AUTOMATION-/blob/main/Project_Updating_a_Spreadsheet.ipynb\" target=\"_parent\"><img src=\"https://colab.research.google.com/assets/colab-badge.svg\" alt=\"Open In Colab\"/></a>"
      ]
    },
    {
      "cell_type": "markdown",
      "metadata": {
        "id": "u18Y1cmj_NEv"
      },
      "source": [
        "#**Updating a Spreadsheet**#\n",
        "##*In this project, you’ll write a program to update cells in a spreadsheet of produce sales. Your program will look through the spreadsheet, find specific kinds of produce, and update their prices.\n",
        "\n",
        "#*Your program does the following:\n",
        "\n",
        "##*Loops over all the rows*\n",
        "##*If the row is for garlic, celery, or lemons, changes the price*\n",
        "#**This means your code will need to do the following:\n",
        "\n",
        "##*Open the spreadsheet file.*\n",
        "##*For each row, check whether the value in column A is Celery, Garlic, or Lemon.*\n",
        "##*If it is, update the price in column B.*\n",
        "##*Save the spreadsheet to a new file (so that you don’t lose the old spreadsheet, just in case).*"
      ]
    },
    {
      "cell_type": "markdown",
      "metadata": {
        "id": "urxvfbtRBhZe"
      },
      "source": [
        "#**Step 1: Set Up a Data Structure with the Update Information**#\n",
        "#*The prices that you need to update are as follows:\n",
        "\n",
        "##*Celery         1.19*\n",
        "\n",
        "##*Garlic          3.07*\n",
        "\n",
        "##*Lemon         1.27*\n",
        "\n",
        "##**You could write code like this:"
      ]
    },
    {
      "cell_type": "code",
      "execution_count": null,
      "metadata": {
        "id": "jjVJSGHhC1_I"
      },
      "outputs": [],
      "source": [
        "if produceName == 'Celery':\n",
        "    cellObj = 1.19\n",
        "if produceName == 'Garlic':\n",
        "    cellObj = 3.07\n",
        "if produceName == 'Lemon':\n",
        "    cellObj = 1.27"
      ]
    },
    {
      "cell_type": "markdown",
      "metadata": {
        "id": "05RyH3iuD_fU"
      },
      "source": [
        "##*Having the produce and updated price data hardcoded like this is a bit inelegant. If you needed to update the spreadsheet again with different prices or different produce, you would have to change a lot of the code. Every time you change code, you risk introducing bugs.\n",
        "\n",
        "##*A more flexible solution is to store the corrected price information in a dictionary and write your code to use this data structure."
      ]
    },
    {
      "cell_type": "code",
      "execution_count": 7,
      "metadata": {
        "id": "vO7ORQ_jEOKI"
      },
      "outputs": [],
      "source": [
        "# updateProduce.py - Corrects costs in produce sales spreadsheet.\n",
        "\n",
        "import openpyxl\n",
        "\n",
        "wb = openpyxl.load_workbook('/content/drive/MyDrive/produceSales.xlsx')\n",
        "sheet = wb['Sheet']\n",
        "\n",
        "# The produce types and their updated prices\n",
        "PRICE_UPDATES = {'Garlic': 3.07,\n",
        "                 'Celery': 1.19,\n",
        "                 'Lemon': 1.27}\n"
      ]
    },
    {
      "cell_type": "markdown",
      "source": [
        "##**Step 2: Check All Rows and Update Incorrect Prices**#\n",
        "##*The next part of the program will loop through all the rows in the spreadsheet."
      ],
      "metadata": {
        "id": "lz-okq5W2nUN"
      }
    },
    {
      "cell_type": "code",
      "source": [
        "# Loop through the rows and update the prices.\n",
        "for rowNum in range(2, sheet.max_row):#skip first row\n",
        "    produceName = sheet.cell(row=rowNum, column=1).value\n",
        "    if produceName in PRICE_UPDATES:\n",
        "        sheet.cell(row=rowNum, column=2).value = PRICE_UPDATES[produceName]\n",
        "PRICE_UPDATES.get(produceName)\n",
        "wb.save('updatedProduceSales.xlsx')\n"
      ],
      "metadata": {
        "id": "jFe__gTT20zf"
      },
      "execution_count": 11,
      "outputs": []
    }
  ],
  "metadata": {
    "colab": {
      "provenance": [],
      "mount_file_id": "1XxefK2UeiXzIClHh_YY5NxJOowhzkgWo",
      "authorship_tag": "ABX9TyPjdxsR6HJ3XAjHKfWRDT7M",
      "include_colab_link": true
    },
    "kernelspec": {
      "display_name": "Python 3",
      "name": "python3"
    },
    "language_info": {
      "name": "python"
    }
  },
  "nbformat": 4,
  "nbformat_minor": 0
}