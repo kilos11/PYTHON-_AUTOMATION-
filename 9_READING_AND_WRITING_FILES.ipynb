{
  "cells": [
    {
      "cell_type": "markdown",
      "metadata": {
        "id": "view-in-github",
        "colab_type": "text"
      },
      "source": [
        "<a href=\"https://colab.research.google.com/github/kilos11/PYTHON-_AUTOMATION-/blob/main/9_READING_AND_WRITING_FILES.ipynb\" target=\"_parent\"><img src=\"https://colab.research.google.com/assets/colab-badge.svg\" alt=\"Open In Colab\"/></a>"
      ]
    },
    {
      "cell_type": "markdown",
      "metadata": {
        "id": "n_MWW74Bouka"
      },
      "source": [
        "#**Files and File Paths**#\n",
        "A file has two key properties: a filename (usually written as one word) and a path. The path specifies the location of a file on the computer. For example, there is a file on my Windows laptop with the filename project.docx in the path C:\\Users\\Al\\Documents. The part of the filename after the last period is called the file’s extension and tells you a file’s type. The filename project.docx is a Word document, and Users, Al, and Documents all refer to folders (also called directories). Folders can contain files and other folders. For example, project.docx is in the Documents folder, which is inside the Al folder, which is inside the Users folder."
      ]
    },
    {
      "cell_type": "markdown",
      "metadata": {
        "id": "BjOMWlkApVZy"
      },
      "source": [
        "#**Backslash on Windows and Forward Slash on macOS and Linux**#\n",
        "On Windows, paths are written using backslashes (\\) as the separator between folder names. The macOS and Linux operating systems, however, use the forward slash (/) as their path separator. If you want your programs to work on all operating systems, you will have to write your Python scripts to handle both cases.\n",
        "\n",
        "Fortunately, this is simple to do with the Path() function in the pathlib module. If you pass it the string values of individual file and folder names in your path, Path() will return a string with a file path using the correct path separators"
      ]
    },
    {
      "cell_type": "code",
      "execution_count": null,
      "metadata": {
        "colab": {
          "base_uri": "https://localhost:8080/"
        },
        "id": "woBlUO7wpiOC",
        "outputId": "55129266-6487-4da0-baae-760c845a1fa7"
      },
      "outputs": [
        {
          "output_type": "stream",
          "name": "stdout",
          "text": [
            "spam/bacon/eggs\n",
            "spam/bacon/eggs\n"
          ]
        }
      ],
      "source": [
        "from pathlib import Path\n",
        "\n",
        "print(Path('spam', 'bacon', 'eggs'))\n",
        "print(str(Path('spam', 'bacon', 'eggs')))"
      ]
    },
    {
      "cell_type": "markdown",
      "metadata": {
        "id": "Te8dGER2qjBc"
      },
      "source": [
        "##**These Path objects (really, WindowsPath or PosixPath objects, depending on your operating system) will be passed to several of the file-related functions introduced in this chapter. For example, the following code joins names from a list of filenames to the end of a folder’s name:"
      ]
    },
    {
      "cell_type": "code",
      "execution_count": null,
      "metadata": {
        "colab": {
          "background_save": true
        },
        "id": "PVW8us1Dqvk4",
        "outputId": "b3d42024-cfdd-4437-ef7d-3715d331b769"
      },
      "outputs": [
        {
          "ename": "NameError",
          "evalue": "name 'myFiles' is not defined",
          "output_type": "error",
          "traceback": [
            "\u001b[0;31m---------------------------------------------------------------------------\u001b[0m",
            "\u001b[0;31mNameError\u001b[0m                                 Traceback (most recent call last)",
            "\u001b[0;32m<ipython-input-16-1a5c1d58c332>\u001b[0m in \u001b[0;36m<cell line: 4>\u001b[0;34m()\u001b[0m\n\u001b[1;32m      2\u001b[0m \u001b[0;34m\u001b[0m\u001b[0m\n\u001b[1;32m      3\u001b[0m \u001b[0mmyF9iles\u001b[0m \u001b[0;34m=\u001b[0m \u001b[0;34m[\u001b[0m\u001b[0;34m'accounts.txt'\u001b[0m\u001b[0;34m,\u001b[0m \u001b[0;34m'details.csv'\u001b[0m\u001b[0;34m,\u001b[0m \u001b[0;34m'invite.docx'\u001b[0m\u001b[0;34m]\u001b[0m\u001b[0;34m\u001b[0m\u001b[0;34m\u001b[0m\u001b[0m\n\u001b[0;32m----> 4\u001b[0;31m \u001b[0;32mfor\u001b[0m \u001b[0mfilename\u001b[0m \u001b[0;32min\u001b[0m \u001b[0mmyFiles\u001b[0m\u001b[0;34m:\u001b[0m\u001b[0;34m\u001b[0m\u001b[0;34m\u001b[0m\u001b[0m\n\u001b[0m\u001b[1;32m      5\u001b[0m     \u001b[0mprint\u001b[0m\u001b[0;34m(\u001b[0m\u001b[0mPath\u001b[0m\u001b[0;34m(\u001b[0m\u001b[0;34mr'C:\\Users\\Al'\u001b[0m\u001b[0;34m,\u001b[0m \u001b[0mfilename\u001b[0m\u001b[0;34m)\u001b[0m\u001b[0;34m)\u001b[0m\u001b[0;34m\u001b[0m\u001b[0;34m\u001b[0m\u001b[0m\n",
            "\u001b[0;31mNameError\u001b[0m: name 'myFiles' is not defined"
          ]
        }
      ],
      "source": [
        "from pathlib import Path\n",
        "\n",
        "myF9iles = ['accounts.txt', 'details.csv', 'invite.docx']\n",
        "for filename in myFiles:\n",
        "    print(Path(r'C:\\Users\\Al', filename))"
      ]
    },
    {
      "cell_type": "markdown",
      "metadata": {
        "id": "XqdfjG2JrrP8"
      },
      "source": [
        "#**Using the / Operator to Join Paths**#\n",
        "We normally use the + operator to add two integer or floating-point numbers, such as in the expression 2 + 2, which evaluates to the integer value 4. But we can also use the + operator to concatenate two string values, like the expression 'Hello' + 'World', which evaluates to the string value 'HelloWorld'. Similarly, the / operator that we normally use for division can also combine Path objects and strings. This is helpful for modifying a Path object after you’ve already created it with the Path() function."
      ]
    },
    {
      "cell_type": "code",
      "execution_count": null,
      "metadata": {
        "id": "6e7sxxWXr1ST",
        "colab": {
          "base_uri": "https://localhost:8080/"
        },
        "outputId": "0f3665b6-e120-433d-b4ac-6704ed0efa65"
      },
      "outputs": [
        {
          "output_type": "stream",
          "name": "stdout",
          "text": [
            "spam/bacon/eggs\n",
            "spam/bacon/eggs\n",
            "spam/bacon/eggs\n",
            "C:\\Users\\Al\\spam\n",
            "C:\\Users\\Al\\spam\n"
          ]
        }
      ],
      "source": [
        "from pathlib import Path\n",
        "\n",
        "print(Path('spam') / 'bacon' / 'eggs')\n",
        "print(Path('spam') / Path('bacon/eggs'))\n",
        "print((Path('spam') / Path('bacon', 'eggs')))\n",
        "\n",
        "#Using the / operator with Path objects makes\n",
        "#joining paths just as easy as string concatenation.\n",
        "#It’s also safer than using string concatenation or the join() method\n",
        "homeFolder = r'C:\\Users\\Al'\n",
        "subFolder = 'spam'\n",
        "print(homeFolder + '\\\\' + subFolder)\n",
        "print('\\\\'.join([homeFolder, subFolder]))"
      ]
    },
    {
      "cell_type": "markdown",
      "metadata": {
        "id": "s6A9IPUbWeI7"
      },
      "source": [
        "#**The Current Working Directory**\n",
        "Every program that runs on your computer has a current working directory, or cwd. Any filenames or paths that do not begin with the root folder are assumed to be under the current working directory.\n",
        "\n",
        "You can get the current working directory as a string value with the Path.cwd() function and change it using os.chdir()."
      ]
    },
    {
      "cell_type": "code",
      "execution_count": null,
      "metadata": {
        "colab": {
          "background_save": true,
          "base_uri": "https://localhost:8080/"
        },
        "id": "fIPSJ0fNZP12",
        "outputId": "1e77d5c6-ac87-40fe-8136-79e62d2f1405"
      },
      "outputs": [
        {
          "data": {
            "text/plain": [
              "PosixPath('/content')"
            ]
          },
          "execution_count": 18,
          "metadata": {},
          "output_type": "execute_result"
        }
      ],
      "source": [
        "from pathlib import Path\n",
        "import os\n",
        "\n",
        "Path.cwd()\n"
      ]
    },
    {
      "cell_type": "markdown",
      "metadata": {
        "id": "AINKBpx1Z22h"
      },
      "source": [
        "#**The Home Directory**#\n",
        "All users have a folder for their own files on the computer called the home directory or home folder. You can get a Path object of the home folder by calling Path.home():"
      ]
    },
    {
      "cell_type": "code",
      "execution_count": null,
      "metadata": {
        "colab": {
          "base_uri": "https://localhost:8080/"
        },
        "id": "JIryeNDLZ-Qj",
        "outputId": "271012f8-99fa-41bc-c6b4-7f734a28825a"
      },
      "outputs": [
        {
          "data": {
            "text/plain": [
              "PosixPath('/root')"
            ]
          },
          "execution_count": 7,
          "metadata": {},
          "output_type": "execute_result"
        }
      ],
      "source": [
        "Path.home()"
      ]
    },
    {
      "cell_type": "markdown",
      "metadata": {
        "id": "Kg4i5uniapfm"
      },
      "source": [
        "#**Absolute vs. Relative Paths**#\n",
        "There are two ways to specify a file path:\n",
        "\n",
        "An absolute path, which always begins with the root folder\n",
        "A relative path, which is relative to the program’s current working directory\n",
        "There are also the dot (.) and dot-dot (..) folders. These are not real folders but special names that can be used in a path. A single period (“dot”) for a folder name is shorthand for “this directory.” Two periods (“dot-dot”) means “the parent folder.”\n",
        "\n",
        "\n"
      ]
    },
    {
      "cell_type": "markdown",
      "metadata": {
        "id": "uaYVEBUEbzsI"
      },
      "source": [
        "#**Creating New Folders Using the os.makedirs() Function**#\n",
        "Your programs can create new folders (directories) with the os.makedirs() function."
      ]
    },
    {
      "cell_type": "code",
      "execution_count": null,
      "metadata": {
        "id": "xocFCb9AcLHB",
        "colab": {
          "base_uri": "https://localhost:8080/",
          "height": 332
        },
        "outputId": "4f98cd1f-f919-443a-c2a6-0b91c838e434"
      },
      "outputs": [
        {
          "output_type": "error",
          "ename": "FileExistsError",
          "evalue": "[Errno 17] File exists: 'C:\\\\delicious\\\\walnut\\\\waffles'",
          "traceback": [
            "\u001b[0;31m---------------------------------------------------------------------------\u001b[0m",
            "\u001b[0;31mFileExistsError\u001b[0m                           Traceback (most recent call last)",
            "\u001b[0;32m<ipython-input-23-bd29cdff4070>\u001b[0m in \u001b[0;36m<cell line: 3>\u001b[0;34m()\u001b[0m\n\u001b[1;32m      1\u001b[0m \u001b[0;32mimport\u001b[0m \u001b[0mos\u001b[0m\u001b[0;34m\u001b[0m\u001b[0;34m\u001b[0m\u001b[0m\n\u001b[1;32m      2\u001b[0m \u001b[0;34m\u001b[0m\u001b[0m\n\u001b[0;32m----> 3\u001b[0;31m \u001b[0mos\u001b[0m\u001b[0;34m.\u001b[0m\u001b[0mmakedirs\u001b[0m\u001b[0;34m(\u001b[0m\u001b[0;34m'C:\\\\delicious\\\\walnut\\\\waffles'\u001b[0m\u001b[0;34m)\u001b[0m\u001b[0;34m\u001b[0m\u001b[0;34m\u001b[0m\u001b[0m\n\u001b[0m\u001b[1;32m      4\u001b[0m \u001b[0;34m\u001b[0m\u001b[0m\n\u001b[1;32m      5\u001b[0m \u001b[0;31m#To make a directory from a Path object, call the mkdir() method.\u001b[0m\u001b[0;34m\u001b[0m\u001b[0;34m\u001b[0m\u001b[0m\n",
            "\u001b[0;32m/usr/lib/python3.10/os.py\u001b[0m in \u001b[0;36mmakedirs\u001b[0;34m(name, mode, exist_ok)\u001b[0m\n\u001b[1;32m    223\u001b[0m             \u001b[0;32mreturn\u001b[0m\u001b[0;34m\u001b[0m\u001b[0;34m\u001b[0m\u001b[0m\n\u001b[1;32m    224\u001b[0m     \u001b[0;32mtry\u001b[0m\u001b[0;34m:\u001b[0m\u001b[0;34m\u001b[0m\u001b[0;34m\u001b[0m\u001b[0m\n\u001b[0;32m--> 225\u001b[0;31m         \u001b[0mmkdir\u001b[0m\u001b[0;34m(\u001b[0m\u001b[0mname\u001b[0m\u001b[0;34m,\u001b[0m \u001b[0mmode\u001b[0m\u001b[0;34m)\u001b[0m\u001b[0;34m\u001b[0m\u001b[0;34m\u001b[0m\u001b[0m\n\u001b[0m\u001b[1;32m    226\u001b[0m     \u001b[0;32mexcept\u001b[0m \u001b[0mOSError\u001b[0m\u001b[0;34m:\u001b[0m\u001b[0;34m\u001b[0m\u001b[0;34m\u001b[0m\u001b[0m\n\u001b[1;32m    227\u001b[0m         \u001b[0;31m# Cannot rely on checking for EEXIST, since the operating system\u001b[0m\u001b[0;34m\u001b[0m\u001b[0;34m\u001b[0m\u001b[0m\n",
            "\u001b[0;31mFileExistsError\u001b[0m: [Errno 17] File exists: 'C:\\\\delicious\\\\walnut\\\\waffles'"
          ]
        }
      ],
      "source": [
        "import os\n",
        "\n",
        "os.makedirs('C:\\\\delicious\\\\walnut\\\\waffles')\n",
        "\n",
        "#To make a directory from a Path object, call the mkdir() method.\n",
        "#For example, this code will create a spam folder under the home folder on my computer:\n",
        "from pathlib import Path\n",
        "\n",
        "Path(r'C:\\Users\\Al\\spam').mkdir()\n",
        "\n",
        "#Note that mkdir() can only make one directory at a time;\n",
        "#it won’t make several subdirectories at once like os.makedirs()."
      ]
    },
    {
      "cell_type": "markdown",
      "metadata": {
        "id": "Gyn6Hyq5duDH"
      },
      "source": [
        "#**Handling Absolute and Relative Paths**#\n",
        "The pathlib module provides methods for checking whether a given path is an absolute path and returning the absolute path of a relative path.\n",
        "\n",
        "Calling the is_absolute() method on a Path object will return True if it represents an absolute path or False if it represents a relative path."
      ]
    },
    {
      "cell_type": "code",
      "execution_count": null,
      "metadata": {
        "colab": {
          "base_uri": "https://localhost:8080/"
        },
        "id": "kreMUWxMd5wr",
        "outputId": "de539f4b-e13e-4042-9abd-132d426c634b"
      },
      "outputs": [
        {
          "output_type": "stream",
          "name": "stdout",
          "text": [
            "/content\n",
            "True\n",
            "False\n"
          ]
        }
      ],
      "source": [
        "print(Path.cwd())\n",
        "print(Path.cwd().is_absolute())\n",
        "print(Path('spam/bacon/eggs').is_absolute())"
      ]
    },
    {
      "cell_type": "markdown",
      "metadata": {
        "id": "nWZ1irqCfBSk"
      },
      "source": [
        "##*To get an absolute path from a relative path, you can put Path.cwd() / in front of the relative Path object. After all, when we say “relative path,” we almost always mean a path that is relative to the current working directory."
      ]
    },
    {
      "cell_type": "code",
      "execution_count": null,
      "metadata": {
        "colab": {
          "base_uri": "https://localhost:8080/"
        },
        "id": "TpcaLmFTfNhu",
        "outputId": "a6e903e4-3389-4caa-c6c0-a2dd86056b8c"
      },
      "outputs": [
        {
          "name": "stdout",
          "output_type": "stream",
          "text": [
            "my/relative/path\n",
            "/content/my/relative/path\n"
          ]
        }
      ],
      "source": [
        "print(Path('my/relative/path'))\n",
        "print(Path.cwd() / Path('my/relative/path'))"
      ]
    },
    {
      "cell_type": "markdown",
      "metadata": {
        "id": "tJjCJ4fXf6DO"
      },
      "source": [
        "##*If your relative path is relative to another path besides the current working directory, just replace Path.cwd() with that other path instead. The following example gets an absolute path using the home directory instead of the current working directory:"
      ]
    },
    {
      "cell_type": "code",
      "execution_count": null,
      "metadata": {
        "colab": {
          "base_uri": "https://localhost:8080/"
        },
        "id": "DOmlN4HygGYn",
        "outputId": "5b4d3f29-d4e8-4ed1-980f-2dc95284e7c9"
      },
      "outputs": [
        {
          "name": "stdout",
          "output_type": "stream",
          "text": [
            "my/relative/path\n",
            "/root/my/relative/path\n"
          ]
        }
      ],
      "source": [
        "print(Path('my/relative/path'))\n",
        "print(Path.home() / Path('my/relative/path'))"
      ]
    },
    {
      "cell_type": "markdown",
      "metadata": {
        "id": "0rzqT0EbhFr5"
      },
      "source": [
        "##*The os.path module also has some useful functions related to absolute and relative paths:\n",
        "\n",
        "##*calling os.path.abspath(path) will return a string of the absolute path of the argument. This is an easy way to convert a relative path into an absolute one.\n",
        "##*Calling os.path.isabs(path) will return True if the argument is an absolute path and False if it is a relative path.\n",
        "##*Calling os.path.relpath(path, start) will return a string of a relative path from the start path to path. If start is not provided, the current working directory is used as the start path."
      ]
    },
    {
      "cell_type": "code",
      "execution_count": null,
      "metadata": {
        "colab": {
          "base_uri": "https://localhost:8080/"
        },
        "id": "aZ8iOkrThsCj",
        "outputId": "8b5f9c9b-18c5-41ee-98f4-7c0cf890a69b"
      },
      "outputs": [
        {
          "name": "stdout",
          "output_type": "stream",
          "text": [
            "/content\n",
            "/content/.\\Scripts\n",
            "False\n",
            "True\n"
          ]
        }
      ],
      "source": [
        "print(os.path.abspath('.'))\n",
        "print(os.path.abspath('.\\\\Scripts'))\n",
        "print(os.path.isabs('.'))\n",
        "print(os.path.isabs(os.path.abspath('.')))"
      ]
    },
    {
      "cell_type": "markdown",
      "metadata": {
        "id": "4m05wWQaT1Wr"
      },
      "source": [
        "#**Getting the Parts of a File Path**#\n",
        "Given a Path object, you can extract the file path’s different parts as strings using several Path object attributes. These can be useful for constructing new file paths based on existing ones.\n",
        "\n",
        "The parts of a file path include the following:\n",
        "\n",
        "The anchor, which is the root folder of the filesystem\n",
        "On Windows, the drive, which is the single letter that often denotes a physical hard drive or other storage device\n",
        "The parent, which is the folder that contains the file\n",
        "The name of the file, made up of the stem (or base name) and the suffix (or extension)\n",
        "Note that Windows Path objects have a drive attribute, but macOS and Linux Path objects don’t. The drive attribute doesn’t include the first backslash.\n"
      ]
    },
    {
      "cell_type": "code",
      "execution_count": null,
      "metadata": {
        "colab": {
          "base_uri": "https://localhost:8080/"
        },
        "id": "hUvPBXl2Vil9",
        "outputId": "e1767779-8298-4660-89ac-14e25648eec4"
      },
      "outputs": [
        {
          "name": "stdout",
          "output_type": "stream",
          "text": [
            "\n",
            "C:/Users/Al\n",
            "spam.txt\n",
            "spam\n",
            ".txt\n",
            "\n"
          ]
        }
      ],
      "source": [
        "p = Path('C:/Users/Al/spam.txt')\n",
        "\n",
        "print(p.anchor)\n",
        "print(p.parent)\n",
        "print(p.name)\n",
        "print(p.stem)\n",
        "print(p.suffix)\n",
        "print(p.drive)"
      ]
    },
    {
      "cell_type": "markdown",
      "metadata": {
        "id": "Hx8xUtZJXi7p"
      },
      "source": [
        "##*These attributes evaluate to simple string values, except for parent, which evaluates to another Path object.\n",
        "\n",
        "##**The parents attribute (which is different from the parent attribute) evaluates to the ancestor folders of a Path object with an integer index:"
      ]
    },
    {
      "cell_type": "code",
      "execution_count": null,
      "metadata": {
        "id": "u0aefDTIX4kz"
      },
      "outputs": [],
      "source": [
        "print(Path.cwd())\n",
        "print(Path.cwd().parents[0])\n",
        "print(Path.cwd().parents[2])"
      ]
    },
    {
      "cell_type": "markdown",
      "metadata": {
        "id": "4sudzt_gw9sm"
      },
      "source": [
        "##*The older os.path module also has similar functions for getting the different parts of a path written in a string value. Calling os.path.dirname(path) will return a string of everything that comes before the last slash in the path argument. Calling os.path.basename(path) will return a string of everything that comes after the last slash in the path argument."
      ]
    },
    {
      "cell_type": "code",
      "execution_count": null,
      "metadata": {
        "colab": {
          "base_uri": "https://localhost:8080/"
        },
        "id": "gCmcF574xFCr",
        "outputId": "297c11dd-269e-438c-a854-ba5274a081e7"
      },
      "outputs": [
        {
          "name": "stdout",
          "output_type": "stream",
          "text": [
            "C:\\Windows\\System32\\calc.exe\n",
            "\n"
          ]
        }
      ],
      "source": [
        "calcFilePath = 'C:\\\\Windows\\\\System32\\\\calc.exe'\n",
        "\n",
        "print(os.path.basename(calcFilePath))\n",
        "print(os.path.dirname(calcFilePath))"
      ]
    },
    {
      "cell_type": "markdown",
      "metadata": {
        "id": "8Hy_UjNoxs71"
      },
      "source": [
        "##*If you need a path’s dir name and base name together, you can just call os.path.split() to get a tuple value with these two strings, like so:"
      ]
    },
    {
      "cell_type": "code",
      "execution_count": null,
      "metadata": {
        "colab": {
          "base_uri": "https://localhost:8080/"
        },
        "id": "dJUrSKPGxxD8",
        "outputId": "8b332e05-43ac-4308-9e74-8d2c3332282c"
      },
      "outputs": [
        {
          "data": {
            "text/plain": [
              "('', 'C:\\\\Windows\\\\System32\\\\calc.exe')"
            ]
          },
          "execution_count": 5,
          "metadata": {},
          "output_type": "execute_result"
        }
      ],
      "source": [
        "calcFilePath = 'C:\\\\Windows\\\\System32\\\\calc.exe'\n",
        "\n",
        "os.path.split(calcFilePath)\n"
      ]
    },
    {
      "cell_type": "markdown",
      "metadata": {
        "id": "DQtgsUtqx_L9"
      },
      "source": [
        "##*Notice that you could create the same tuple by calling os.path.dirname() and os.path.basename() and placing their return values in a tuple:"
      ]
    },
    {
      "cell_type": "code",
      "execution_count": null,
      "metadata": {
        "colab": {
          "base_uri": "https://localhost:8080/"
        },
        "id": "tuMehHe0yDh1",
        "outputId": "2fc6bcdd-a875-4018-f2f9-afb8628be135"
      },
      "outputs": [
        {
          "data": {
            "text/plain": [
              "('', 'C:\\\\Windows\\\\System32\\\\calc.exe')"
            ]
          },
          "execution_count": 6,
          "metadata": {},
          "output_type": "execute_result"
        }
      ],
      "source": [
        "(os.path.dirname(calcFilePath), os.path.basename(calcFilePath))"
      ]
    },
    {
      "cell_type": "markdown",
      "metadata": {
        "id": "Hy9W6vHcyV08"
      },
      "source": [
        "#**Finding File Sizes and Folder Contents**#\n",
        "##*Once you have ways of handling file paths, you can then start gathering information about specific files and folders. The os.path module provides functions for finding the size of a file in bytes and the files and folders inside a given folder.\n",
        "\n",
        "##*Calling os.path.getsize(path) will return the size in bytes of the file in the path argument.\n",
        "##*Calling os.listdir(path) will return a list of filename strings for each file in the path argument. (Note that this function is in the os module, not os.path.)"
      ]
    },
    {
      "cell_type": "code",
      "execution_count": null,
      "metadata": {
        "id": "R5nV8ukVyzqK"
      },
      "outputs": [],
      "source": [
        "os.path.getsize('C:\\\\Windows\\\\System32\\\\calc.exe')\n",
        "\n",
        "os.listdir('C:\\\\Windows\\\\System32')"
      ]
    },
    {
      "cell_type": "markdown",
      "metadata": {
        "id": "n014UJLdzXej"
      },
      "source": [
        "##*As you can see, the calc.exe program on my computer is 27,648 bytes in size, and I have a lot of files in C:\\Windows\\system32. If I want to find the total size of all the files in this directory, I can use os.path.getsize() and os.listdir() together."
      ]
    },
    {
      "cell_type": "code",
      "execution_count": null,
      "metadata": {
        "id": "NX3ql--BzhJ4"
      },
      "outputs": [],
      "source": [
        "totalSize = 0\n",
        "\n",
        "for filename in os.listdir('C:\\\\Windows\\\\System32'):\n",
        "    totalSize = totalSize + os.path.getsize(os.path.join('C:\\\\Windows\\\\System32', filename))\n"
      ]
    },
    {
      "cell_type": "markdown",
      "metadata": {
        "id": "aIHAmYxEOdWD"
      },
      "source": [
        "#**Modifying a List of Files Using Glob Patterns**#\n",
        "If you want to work on specific files, the glob() method is simpler to use than listdir(). Path objects have a glob() method for listing the contents of a folder according to a glob pattern. Glob patterns are like a simplified form of regular expressions often used in command line commands. The glob() method returns a generator object (which are beyond the scope of this book) that you’ll need to pass to list() to easily view in the interactive shell:"
      ]
    },
    {
      "cell_type": "code",
      "execution_count": null,
      "metadata": {
        "colab": {
          "base_uri": "https://localhost:8080/"
        },
        "id": "5h0rqiqSPCZD",
        "outputId": "315f3f0b-01ee-4b3f-8ff8-402f2c94869f"
      },
      "outputs": [
        {
          "name": "stdout",
          "output_type": "stream",
          "text": [
            "[]\n"
          ]
        }
      ],
      "source": [
        "p = Path('C:/Users/Al/Desktop')\n",
        "\n",
        "p.glob('*')\n",
        "print(list(p.glob('*')))"
      ]
    },
    {
      "cell_type": "markdown",
      "metadata": {
        "id": "hqG--x6AP6Qe"
      },
      "source": [
        "#**Checking Path Validity**#\n",
        "##*Many Python functions will crash with an error if you supply them with a path that does not exist. Luckily, Path objects have methods to check whether a given path exists and whether it is a file or folder. Assuming that a variable p holds a Path object, you could expect the following:\n",
        "\n",
        "##*Calling p.exists() returns True if the path exists or returns False if it doesn’t exist.\n",
        "##*Calling p.is_file() returns True if the path exists and is a file, or returns False otherwise.\n",
        "##*Calling p.is_dir() returns True if the path exists and is a directory, or returns False otherwise."
      ]
    },
    {
      "cell_type": "code",
      "execution_count": null,
      "metadata": {
        "colab": {
          "base_uri": "https://localhost:8080/"
        },
        "id": "4qlhErYJQ8n2",
        "outputId": "cf41c7a6-3625-4c2d-a94d-e7e0e8ccdf6b"
      },
      "outputs": [
        {
          "name": "stdout",
          "output_type": "stream",
          "text": [
            "False\n",
            "False\n",
            "False\n",
            "False\n"
          ]
        }
      ],
      "source": [
        "winDir = Path('C:/Windows')\n",
        "\n",
        "notExistsDir = Path('C:/This/Folder/Does/Not/Exist')\n",
        "calcFile = Path('C:/Windows/System32/calc.exe')\n",
        "print(winDir.exists())\n",
        "print(winDir.is_dir())\n",
        "print(notExistsDir.exists())\n",
        "print(calcFile.is_file())"
      ]
    },
    {
      "cell_type": "markdown",
      "metadata": {
        "id": "IYZQlPlfScAA"
      },
      "source": [
        "##*You can determine whether there is a DVD or flash drive currently attached to the computer by checking for it with the exists() method. For instance, if I wanted to check for a flash drive with the volume named D:\\ on my Windows computer, I could do that with the following:"
      ]
    },
    {
      "cell_type": "code",
      "execution_count": null,
      "metadata": {
        "colab": {
          "base_uri": "https://localhost:8080/"
        },
        "id": "Gg3AteUQSlCt",
        "outputId": "3979bffa-f9b2-4ead-c03b-9414320f5d86"
      },
      "outputs": [
        {
          "data": {
            "text/plain": [
              "False"
            ]
          },
          "execution_count": 13,
          "metadata": {},
          "output_type": "execute_result"
        }
      ],
      "source": [
        "dDrive = Path('D:/')\n",
        "dDrive.exists()"
      ]
    },
    {
      "cell_type": "markdown",
      "metadata": {
        "id": "2iUAaOolTDpu"
      },
      "source": [
        "#**The File Reading/Writing Process**#\n",
        "##**Since every different type of binary file must be handled in its own way, this book will not go into reading and writing raw binary files directly. Fortunately, many modules make working with binary files easier—you will explore one of them, the shelve module, later in this chapter. The pathlib module’s read_text() method returns a string of the full contents of a text file. Its write_text() method creates a new text file (or overwrites an existing one) with the string passed to it.\n",
        "##**Keep in mind that these Path object methods only provide basic interactions with files. The more common way of writing to a file involves using the open() function and file objects. There are three steps to reading or writing files in Python:\n",
        "\n",
        "##**Call the open() function to return a File object.\n",
        "##**Call the read() or write() method on the File object.\n",
        "##**Close the file by calling the close() method on the File object."
      ]
    },
    {
      "cell_type": "code",
      "execution_count": null,
      "metadata": {
        "id": "4bkv-RvVa1xh"
      },
      "outputs": [],
      "source": [
        "from pathlib import Path\n",
        "\n",
        "p = Path('spam.txt')\n",
        "print(p.read_text())\n",
        "print(p.write_text('Hello, world!'))\n",
        "p.read_text()"
      ]
    },
    {
      "cell_type": "markdown",
      "source": [
        "#**Opening Files with the open() Function**#\n",
        "\n",
        "##**To open a file with the open() function, you pass it a string path indicating the file you want to open; it can be either an absolute or relative path. The open() function returns a File object.\n",
        "\n",
        "##**Try it by creating a text file named hello.txt using Notepad or TextEdit. Type Hello, world! as the content of this text file and save it in your user home folder."
      ],
      "metadata": {
        "id": "oNhk3xoTdlkG"
      }
    },
    {
      "cell_type": "code",
      "source": [
        "helloFile = open(Path.home() / 'hello.txt')"
      ],
      "metadata": {
        "id": "tsQKLaeweNmc"
      },
      "execution_count": null,
      "outputs": []
    },
    {
      "cell_type": "markdown",
      "source": [
        "##**The open() function can also accept strings. If you’re using Windows, enter the following into the interactive shell:"
      ],
      "metadata": {
        "id": "CkJuCQHVeY_N"
      }
    },
    {
      "cell_type": "code",
      "source": [
        "helloFile = open('C:\\\\Users\\\\your_home_folder\\\\hello.txt')"
      ],
      "metadata": {
        "id": "C2IqgNH5ee39"
      },
      "execution_count": null,
      "outputs": []
    },
    {
      "cell_type": "markdown",
      "source": [
        "##**Reading the Contents of Files**#\n",
        "##*Now that you have a File object, you can start reading from it. If you want to read the entire contents of a file as a string value, use the File object’s read() method. Let’s continue with the hello.txt File object you stored in helloFile."
      ],
      "metadata": {
        "id": "TkUea_ldfKXV"
      }
    },
    {
      "cell_type": "code",
      "source": [
        "helloContent = helloFile.read()\n",
        "helloContent"
      ],
      "metadata": {
        "id": "Y9DHgTI8ffs5"
      },
      "execution_count": null,
      "outputs": []
    },
    {
      "cell_type": "markdown",
      "source": [
        "##**If you think of the contents of a file as a single large string value, the read() method returns the string that is stored in the file.\n",
        "\n",
        "##**Alternatively, you can use the readlines() method to get a list of string values from the file, one string for each line of text. For example, create a file named sonnet29.txt in the same directory as hello.txt and write the following text in it:\n",
        "\n",
        "When, in disgrace with fortune and men's eyes,\n",
        "I all alone beweep my outcast state,\n",
        "And trouble deaf heaven with my bootless cries,\n",
        "And look upon myself and curse my fate,\n",
        "\n",
        "##**Make sure to separate the four lines with line breaks"
      ],
      "metadata": {
        "id": "bxLiKYCjirwB"
      }
    },
    {
      "cell_type": "code",
      "source": [
        "sonnetFile = open(Path.home() / 'sonnet29.txt')\n",
        "sonnetFile.readlines()"
      ],
      "metadata": {
        "id": "ut9Rgl2LjXun"
      },
      "execution_count": null,
      "outputs": []
    },
    {
      "cell_type": "markdown",
      "source": [
        "#**Writing to Files**#\n",
        "##**Python allows you to write content to a file in a way similar to how the print() function “writes” strings to the screen. You can’t write to a file you’ve opened in read mode, though. Instead, you need to open it in “write plaintext” mode or “append plaintext” mode, or write mode and append mode for short.\n",
        "\n",
        "##*Write mode will overwrite the existing file and start from scratch, just like when you overwrite a variable’s value with a new value. Pass 'w' as the second argument to open() to open the file in write mode. Append mode, on the other hand, will append text to the end of the existing file. You can think of this as appending to a list in a variable, rather than overwriting the variable altogether. Pass 'a' as the second argument to open() to open the file in append mode.\n",
        "\n",
        "##*If the filename passed to open() does not exist, both write and append mode will create a new, blank file. After reading or writing a file, call the close() method before opening the file again."
      ],
      "metadata": {
        "id": "0jmZ0occj5Z3"
      }
    },
    {
      "cell_type": "code",
      "source": [
        "baconFile = open('bacon.txt', 'w')\n",
        "baconFile.write('Hello, world!\\n')\n",
        "baconFile.close()\n",
        "baconFile = open('bacon.txt', 'a')\n",
        "baconFile.write('Bacon is not a vegetable.')\n",
        "baconFile.close()\n",
        "baconFile = open('bacon.txt')\n",
        "content = baconFile.read()\n",
        "baconFile.close()\n",
        "print(content)"
      ],
      "metadata": {
        "colab": {
          "base_uri": "https://localhost:8080/"
        },
        "id": "jnX13owSkuic",
        "outputId": "066af117-91b8-475a-b225-933346b448ef"
      },
      "execution_count": null,
      "outputs": [
        {
          "output_type": "stream",
          "name": "stdout",
          "text": [
            "Hello, world!\n",
            "Bacon is not a vegetable.\n"
          ]
        }
      ]
    },
    {
      "cell_type": "markdown",
      "source": [
        "#**Saving Variables with the shelve Module**#\n",
        "##*You can save variables in your Python programs to binary shelf files using the shelve module. This way, your program can restore data to variables from the hard drive. The shelve module will let you add Save and Open features to your program. For example, if you ran a program and entered some configuration settings, you could save those settings to a shelf file and then have the program load them the next time it is run."
      ],
      "metadata": {
        "id": "jiMNVAvzl88s"
      }
    },
    {
      "cell_type": "code",
      "source": [
        "import shelve\n",
        "\n",
        "shelfFile = shelve.open('mydata')\n",
        "cats = ['Zophie', 'Pooka', 'Simon']\n",
        "shelfFile['cats'] = cats\n",
        "shelfFile.close()"
      ],
      "metadata": {
        "id": "YIeZo-YVnZSj"
      },
      "execution_count": null,
      "outputs": []
    },
    {
      "cell_type": "markdown",
      "source": [
        "##*After running the previous code on Windows, you will see three new files in the current working directory: mydata.bak, mydata.dat, and mydata.dir. On macOS, only a single mydata.db file will be created.\n",
        "\n",
        "##*These binary files contain the data you stored in your shelf. The format of these binary files is not important; you only need to know what the shelve module does, not how it does it. The module frees you from worrying about how to store your program’s data to a file.\n",
        "\n",
        "##*Your programs can use the shelve module to later reopen and retrieve the data from these shelf files. Shelf values don’t have to be opened in read or write mode—they can do both once opened."
      ],
      "metadata": {
        "id": "97jdvhwZoXQa"
      }
    },
    {
      "cell_type": "code",
      "source": [
        "shelfFile = shelve.open('mydata')\n",
        "print(type(shelfFile))\n",
        "print(shelfFile['cats'])\n",
        "shelfFile.close()"
      ],
      "metadata": {
        "colab": {
          "base_uri": "https://localhost:8080/"
        },
        "id": "GAC4JxIJokv9",
        "outputId": "bd01b6e6-4147-42a7-c913-95735f9c3b23"
      },
      "execution_count": null,
      "outputs": [
        {
          "output_type": "stream",
          "name": "stdout",
          "text": [
            "<class 'shelve.DbfilenameShelf'>\n",
            "['Zophie', 'Pooka', 'Simon']\n"
          ]
        }
      ]
    },
    {
      "cell_type": "markdown",
      "source": [
        "##*Just like dictionaries, shelf values have keys() and values() methods that will return list-like values of the keys and values in the shelf. Since these methods return list-like values instead of true lists, you should pass them to the list() function to get them in list form."
      ],
      "metadata": {
        "id": "ol45xnlHqQNo"
      }
    },
    {
      "cell_type": "code",
      "source": [
        "shelfFile = shelve.open('mydata')\n",
        "print(list(shelfFile.keys()))\n",
        "print(list(shelfFile.values()))\n",
        "shelfFile.close()"
      ],
      "metadata": {
        "colab": {
          "base_uri": "https://localhost:8080/"
        },
        "id": "mwxQKqQRqw64",
        "outputId": "c98e3c16-f696-409b-f246-bd4f528eaa5e"
      },
      "execution_count": null,
      "outputs": [
        {
          "output_type": "stream",
          "name": "stdout",
          "text": [
            "['cats']\n",
            "[['Zophie', 'Pooka', 'Simon']]\n"
          ]
        }
      ]
    },
    {
      "cell_type": "markdown",
      "source": [
        "##*Plaintext is useful for creating files that you’ll read in a text editor such as Notepad or TextEdit, but if you want to save data from your Python programs, use the shelve module."
      ],
      "metadata": {
        "id": "D2angTxisovT"
      }
    },
    {
      "cell_type": "markdown",
      "source": [
        "#**Saving Variables with the pprint.pformat() Function**#\n",
        "##*Recall from “Pretty Printing” on page 118 that the pprint.pprint() function will “pretty print” the contents of a list or dictionary to the screen, while the pprint.pformat() function will return this same text as a string instead of printing it. Not only is this string formatted to be easy to read, but it is also syntactically correct Python code. Say you have a dictionary stored in a variable and you want to save this variable and its contents for future use. Using pprint.pformat() will give you a string that you can write to a .py file. This file will be your very own module that you can import whenever you want to use the variable stored in it."
      ],
      "metadata": {
        "id": "KsYQEMs-tC0G"
      }
    },
    {
      "cell_type": "code",
      "source": [
        "import pprint\n",
        "\n",
        "cats = [{'name': 'Zophie', 'desc': 'chubby'}, {'name': 'Pooka', 'desc': 'fluffy'}]\n",
        "print(pprint.pformat(cats))\n",
        "fileObj = open('myCats.py', 'w')\n",
        "print(fileObj.write('cats = ' + pprint.pformat(cats) + '\\n'))\n",
        "fileObj.close()"
      ],
      "metadata": {
        "id": "ZNcogcK-tXg5",
        "colab": {
          "base_uri": "https://localhost:8080/"
        },
        "outputId": "a1f94d08-6856-4d48-b930-428f111bc863"
      },
      "execution_count": null,
      "outputs": [
        {
          "output_type": "stream",
          "name": "stdout",
          "text": [
            "[{'desc': 'chubby', 'name': 'Zophie'}, {'desc': 'fluffy', 'name': 'Pooka'}]\n",
            "83\n"
          ]
        }
      ]
    },
    {
      "cell_type": "markdown",
      "source": [
        "##*Here, we import pprint to let us use pprint.pformat(). We have a list of dictionaries, stored in a variable cats. To keep the list in cats available even after we close the shell, we use pprint.pformat() to return it as a string. Once we have the data in cats as a string, it’s easy to write the string to a file, which we’ll call myCats.py.\n",
        "\n",
        "##*The modules that an import statement imports are themselves just Python scripts. When the string from pprint.pformat() is saved to a .py file, the file is a module that can be imported just like any other.\n",
        "\n",
        "##*And since Python scripts are themselves just text files with the .py file extension, your Python programs can even generate other Python programs. You can then import these files into scripts."
      ],
      "metadata": {
        "id": "7RwiRZ4HvwRg"
      }
    },
    {
      "cell_type": "code",
      "source": [
        "import myCats\n",
        "\n",
        "print(myCats.cats)\n",
        "print(myCats.cats[0])\n",
        "print(myCats.cats[0]['name'])\n",
        "print(myCats.cats[1]['desc'])\n"
      ],
      "metadata": {
        "colab": {
          "base_uri": "https://localhost:8080/"
        },
        "id": "0M4RG0WowALZ",
        "outputId": "26bcd760-b140-4947-a8fe-3e94870e3bfb"
      },
      "execution_count": null,
      "outputs": [
        {
          "output_type": "stream",
          "name": "stdout",
          "text": [
            "[{'desc': 'chubby', 'name': 'Zophie'}, {'desc': 'fluffy', 'name': 'Pooka'}]\n",
            "{'desc': 'chubby', 'name': 'Zophie'}\n",
            "Zophie\n",
            "fluffy\n"
          ]
        }
      ]
    },
    {
      "cell_type": "markdown",
      "source": [
        "##*The benefit of creating a .py file (as opposed to saving variables with the shelve module) is that because it is a text file, the contents of the file can be read and modified by anyone with a simple text editor. For most applications, however, saving data using the shelve module is the preferred way to save variables to a file. Only basic data types such as integers, floats, strings, lists, and dictionaries can be written to a file as simple text. File objects, for example, cannot be encoded as text."
      ],
      "metadata": {
        "id": "gAYkTrYBxVzx"
      }
    },
    {
      "cell_type": "markdown",
      "source": [
        "#**Project: Generating Random Quiz Files**#\n",
        "Say you’re a geography teacher with 35 students in your class and you want to give a pop quiz on US state capitals. Alas, your class has a few bad eggs in it, and you can’t trust the students not to cheat. You’d like to randomize the order of questions so that each quiz is unique, making it impossible for anyone to crib answers from anyone else. Of course, doing this by hand would be a lengthy and boring affair. Fortunately, you know some Python.\n",
        "\n",
        "Here is what the program does:\n",
        "\n",
        "Creates 35 different quizzes\n",
        "Creates 50 multiple-choice questions for each quiz, in random order\n",
        "Provides the correct answer and three random wrong answers for each question, in random order\n",
        "Writes the quizzes to 35 text files\n",
        "Writes the answer keys to 35 text files\n",
        "This means the code will need to do the following:\n",
        "\n",
        "Store the states and their capitals in a dictionary\n",
        "Call open(), write(), and close() for the quiz and answer key text files\n",
        "Use random.shuffle() to randomize the order of the questions and multiple-choice options"
      ],
      "metadata": {
        "id": "ujd5NX4NFKMB"
      }
    },
    {
      "cell_type": "markdown",
      "source": [
        "#**Step 1: Store the Quiz Data in a Dictionary**#\n",
        "The first step is to create a skeleton script and fill it with your quiz data. Create a file named randomQuizGenerator.py, and make it look like the following:"
      ],
      "metadata": {
        "id": "ajB--4a0FRdK"
      }
    },
    {
      "cell_type": "code",
      "source": [
        "#! python3\n",
        "# randomQuizGenerator.py - Creates quizzes with questions and answers in\n",
        "# random order, along with the answer key.\n",
        "import random\n",
        "\n",
        " # The quiz data. Keys are states and values are their capitals.\n",
        "\n",
        "us_state_to_capital = {\n",
        "    'Alabama': 'Montgomery', 'Alaska': 'Juneau', 'Arizona': 'Phoenix', 'Arkansas': 'Little Rock',\n",
        "    'California': 'Sacramento', 'Colorado': 'Denver', 'Connecticut': 'Hartford', 'Delaware': 'Dover',\n",
        "    'Florida': 'Tallahassee',\n",
        "    'Georgia': 'Atlanta',\n",
        "    'Hawaii': 'Honolulu',\n",
        "    'Idaho': 'Boise',\n",
        "    'Illinois': 'Springfield',\n",
        "    'Indiana': 'Indianapolis',\n",
        "    'Iowa': 'Des Moines',\n",
        "    'Kansas': 'Topeka',\n",
        "    'Kentucky': 'Frankfort',\n",
        "    'Florida': 'Tallahassee',\n",
        "    'Georgia': 'Atlanta',\n",
        "    'Hawaii': 'Honolulu',\n",
        "    'Idaho': 'Boise',\n",
        "    'Illinois': 'Springfield',\n",
        "    'Indiana': 'Indianapolis',\n",
        "    'Iowa': 'Des Moines',\n",
        "    'Kansas': 'Topeka',\n",
        "    'Kentucky': 'Frankfort',\n",
        "    'Florida': 'Tallahassee',\n",
        "    'Georgia': 'Atlanta',\n",
        "    'Hawaii': 'Honolulu',\n",
        "    'Idaho': 'Boise',\n",
        "    'Illinois': 'Springfield',\n",
        "    'Indiana': 'Indianapolis',\n",
        "    'Iowa': 'Des Moines',\n",
        "    'Kansas': 'Topeka',\n",
        "    'Kentucky': 'Frankfort',\n",
        "    'Florida': 'Tallahassee',\n",
        "    'Georgia': 'Atlanta',\n",
        "    'Hawaii': 'Honolulu',\n",
        "    'Idaho': 'Boise',\n",
        "    'Illinois': 'Springfield',\n",
        "    'Indiana': 'Indianapolis',\n",
        "    'Iowa': 'Des Moines',\n",
        "    'Kansas': 'Topeka',\n",
        "    'Kentucky': 'Frankfort'}\n",
        "\n",
        "# Generate 35 quiz files.\n",
        "for quizNum in range(35):\n",
        "     # TODO: Create the quiz and answer key files.\n",
        ""
      ],
      "metadata": {
        "id": "3n_JNL-1FeBV"
      },
      "execution_count": 14,
      "outputs": []
    }
  ],
  "metadata": {
    "colab": {
      "provenance": [],
      "authorship_tag": "ABX9TyMXcBTupypO7zUWCxA7WiCp",
      "include_colab_link": true
    },
    "kernelspec": {
      "display_name": "Python 3",
      "name": "python3"
    },
    "language_info": {
      "name": "python"
    }
  },
  "nbformat": 4,
  "nbformat_minor": 0
}